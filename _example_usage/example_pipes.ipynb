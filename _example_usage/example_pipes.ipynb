{
 "cells": [
  {
   "cell_type": "markdown",
   "metadata": {},
   "source": [
    "## This is an example notebook on how to use the pipes.py class\n",
    "\n",
    "## It isn't the most robustly written class ever, but it got the job done for my thesis"
   ]
  },
  {
   "cell_type": "markdown",
   "metadata": {},
   "source": [
    "#### 1. Importing pipes.py"
   ]
  },
  {
   "cell_type": "markdown",
   "metadata": {},
   "source": [
    "Below are some import shenanigans to get the local import to work in the notebook\n",
    "\n",
    "This is written assuming:\n",
    "\n",
    "aso_modeling/  \n",
    "&emsp;_example_usage/  \n",
    "&emsp;&emsp;example.ipynb  \n",
    "&emsp;&emsp;etc.  \n",
    "&emsp;pipes.py  \n",
    "&emsp;etc.  \n",
    "    "
   ]
  },
  {
   "cell_type": "code",
   "execution_count": 1,
   "metadata": {},
   "outputs": [],
   "source": [
    "import os\n",
    "import sys"
   ]
  },
  {
   "cell_type": "code",
   "execution_count": 2,
   "metadata": {},
   "outputs": [],
   "source": [
    "module_path = os.path.abspath(os.path.join(\"../..\"))\n",
    "if module_path not in sys.path:\n",
    "    sys.path.append(module_path)\n",
    "module_path = os.path.abspath(os.path.join(\"..\"))\n",
    "if module_path not in sys.path:\n",
    "    sys.path.append(module_path)"
   ]
  },
  {
   "cell_type": "code",
   "execution_count": 3,
   "metadata": {},
   "outputs": [
    {
     "data": {
      "text/plain": [
       "['/home/ethangm2/NBO-Modeling/aso_modeling/_example_usage',\n",
       " '/home/ethangm2/miniconda3/envs/DFT/lib/python311.zip',\n",
       " '/home/ethangm2/miniconda3/envs/DFT/lib/python3.11',\n",
       " '/home/ethangm2/miniconda3/envs/DFT/lib/python3.11/lib-dynload',\n",
       " '',\n",
       " '/home/ethangm2/miniconda3/envs/DFT/lib/python3.11/site-packages',\n",
       " '__editable__.molli-1.0.0a7.finder.__path_hook__',\n",
       " '/home/ethangm2/NBO-Modeling',\n",
       " '/home/ethangm2/NBO-Modeling/aso_modeling']"
      ]
     },
     "execution_count": 3,
     "metadata": {},
     "output_type": "execute_result"
    }
   ],
   "source": [
    "sys.path"
   ]
  },
  {
   "cell_type": "code",
   "execution_count": 4,
   "metadata": {},
   "outputs": [],
   "source": [
    "from aso_modeling.pipes import Pipes"
   ]
  },
  {
   "cell_type": "markdown",
   "metadata": {},
   "source": [
    "#### 2. Preprocessing steps, feature and target dataframes"
   ]
  },
  {
   "cell_type": "code",
   "execution_count": 5,
   "metadata": {},
   "outputs": [],
   "source": [
    "from sklearn.preprocessing import PowerTransformer, MinMaxScaler"
   ]
  },
  {
   "cell_type": "code",
   "execution_count": 6,
   "metadata": {},
   "outputs": [],
   "source": [
    "# This format is how parameters are generally passed to Pipes\n",
    "# List of tuples, tuple of form: (\"Name\", Object(Param1, Param2, etc.))\n",
    "# Sometimes in form of (Name, Class, {\"param\": value})\n",
    "\n",
    "pre_steps = [(\"Power Transformer\", PowerTransformer()), (\"MinMax Scaler\", MinMaxScaler())]"
   ]
  },
  {
   "cell_type": "code",
   "execution_count": 8,
   "metadata": {},
   "outputs": [],
   "source": [
    "import pandas as pd\n",
    "import numpy as np"
   ]
  },
  {
   "cell_type": "code",
   "execution_count": 10,
   "metadata": {},
   "outputs": [
    {
     "name": "stdout",
     "output_type": "stream",
     "text": [
      "    0    1    2    3    4    5    6    7    8    9    ...  990  991  992  993  \\\n",
      "0    88   22   18   50   61   86   95   90   59   58  ...   64    3   25   39   \n",
      "1    34   94   56   53   98   75   22   42   47   72  ...   91   37   53   49   \n",
      "2    88   65   83   39   30    3   65   48   45    4  ...   28   78   85   54   \n",
      "3    32   65   73   27   97   83    9   26   81   58  ...   94   49   13    5   \n",
      "4    55   74   53   14   11   97   94   33   44   55  ...   29   29   96   88   \n",
      "5    43   15   19   77   49   23   71   19   65   23  ...   78   82    2   83   \n",
      "6    53   62   14   66   54   16   21   48   64   47  ...   40   85   14    1   \n",
      "7    83   74   41   37    8   71   92   79   43   59  ...   79   79   76   80   \n",
      "8     0   91   66   29   11   79   67   46   56    2  ...   99    5   94    7   \n",
      "9    46   78   33   14   74   68   70   44   65   88  ...   61   61   74   67   \n",
      "10   27    9   19   47   81   80   46   57    3   47  ...   19   25   16   95   \n",
      "11    6   13   60   36   18   26   57   84   11   98  ...   90   25   35   60   \n",
      "12   24   42   73   67   81   79   14   69   75    6  ...   24   96   35   27   \n",
      "13    9   38   29    9   60    3   87   89   35   13  ...   73    5   73   70   \n",
      "14   64   74   25   89    2   91   17   53   78   52  ...   70   65   70    8   \n",
      "15   80   73   19   25   84   61   77   34   11   86  ...   65   31   15   73   \n",
      "16    3   19   87   52    2   66   56   14   31   37  ...    0   58   89   82   \n",
      "17   56   40   77    7   53   22   34   79   50   51  ...   94   77   25   93   \n",
      "18   36   98   65   45   54    9   32   18   60   93  ...   35   91   55   42   \n",
      "19   43   45    3   11   26   55   48    2   32   75  ...   28    1   47   60   \n",
      "20   74   36   89    0   65    4   87   65   24   93  ...   60   21   79   29   \n",
      "21   99   43   50   88    3   28   30   90   23   54  ...   76   68   53   10   \n",
      "22   38   72   57   63    4   95   58   14   71   11  ...   55    1   18   51   \n",
      "23   47   17   84   11   85   96   94   24   38   56  ...   34   58   20   42   \n",
      "24   25   98   92   98   55   74   72   19   96   35  ...    6   58   73   88   \n",
      "25   84   48   94   70   55   24   38   59   14   98  ...    9    1   50   24   \n",
      "26   93   50   94   68   88   60   51   41   48   18  ...   28   47   62   80   \n",
      "27   57   77   32   42   24   10   88   62   60   59  ...   42   63   42   24   \n",
      "28   70   35   44   12   84   90   25   77   10   50  ...   13    7   22   25   \n",
      "29   28    5   89   43   41   78   68   93   79   11  ...   31   41   39   90   \n",
      "30   72   93   95   17   56   27   65   62   50   59  ...   60   59   24   35   \n",
      "31   13   35   80   12   61   84   68   40   58   75  ...    0   26   99   80   \n",
      "32   76   61   34   68   66   11   96   30   22    6  ...   74   59   60   77   \n",
      "33   14   10    6   38   11   72   12   70   52   93  ...   78   88    9   32   \n",
      "34   64   44   59   40   12   56   44   69   56   40  ...    8   94   42   92   \n",
      "35    1   79   45   90   98   17   33   21   74   69  ...   68   63   80   64   \n",
      "36   48   91   49    2   58   15   15   55   78   48  ...   49   55   55   27   \n",
      "37   39   19   18   50   43   21   47   89   47   72  ...   45   16   84   45   \n",
      "38   29   98   30   20   18   23   54   38    7   11  ...   48   72   32    1   \n",
      "39   36   15   72    8   29   17   72   36    0   20  ...   33   32   43   64   \n",
      "40   62   74   73   11   63   11   77   72   67   70  ...   23   97   91   14   \n",
      "41   24   35   13   10   64   74   97   99    2   55  ...   60   63   65   38   \n",
      "42    7   49   28   71   18   35   64   56   61   44  ...   76    1   54   11   \n",
      "43   20   55   94   67   43   73   47   36   90   43  ...   48   16   50   86   \n",
      "44   30   46    2   90   36   66   62   21   29   32  ...   21   87   44   86   \n",
      "45   62   80    4    6    8   69   74   64   70   10  ...   20   26   29   31   \n",
      "46   70   74   98   34   52   88   31   82   74   91  ...   92   55   19   10   \n",
      "47   54   12   32   17    7   98   91   90   76   44  ...   10   98   33    2   \n",
      "48   50   37   53   62   44    5    1   86   92   43  ...   57   15    8   47   \n",
      "49    9   63   94   38   30   52   61   65   64   28  ...   89   22   53   32   \n",
      "\n",
      "    994  995  996  997  998  999  \n",
      "0    78   93    3   72   41   29  \n",
      "1    91    0   64   81   64    4  \n",
      "2    46   62   35   11    3   70  \n",
      "3    72   56   67   99   44   59  \n",
      "4    93   16   77   24   60    5  \n",
      "5    79    2   44   58   58   88  \n",
      "6    56   58   76   67    8   81  \n",
      "7    18   44   87   59   29   93  \n",
      "8    64   44   44   23   13   22  \n",
      "9    96   49    1   73   15    6  \n",
      "10   81   96   60   98   48   51  \n",
      "11   12    3   22   75   42   69  \n",
      "12   81    8   78   98   16   37  \n",
      "13    1   53   48   42   86   31  \n",
      "14   20   45   61   40   71    0  \n",
      "15   67   27   86   63   92   15  \n",
      "16   53   13   74   84   84   26  \n",
      "17   42   89   32   84   47   65  \n",
      "18   76   13   28   76   37   40  \n",
      "19   46   48   76   38    9   96  \n",
      "20   44   60   69   94   24   98  \n",
      "21   97   90   58   99   22   25  \n",
      "22   12   40   87   51   15   29  \n",
      "23   81   68   73   19   48   97  \n",
      "24   30   77   54   98   52   75  \n",
      "25   87    8   40   29   78   22  \n",
      "26   64   35   63   11    9   17  \n",
      "27   59   11   46   53   35   31  \n",
      "28   39   39   13    3   88   86  \n",
      "29    6   97   77   57   69   71  \n",
      "30   23   26   33   60   58   81  \n",
      "31   52   75   68   11   61   34  \n",
      "32   18   84   65    3   86   79  \n",
      "33   15   42   43   88    8   50  \n",
      "34   78   25   48   12   40   73  \n",
      "35    9    5   96   59   60    4  \n",
      "36   82   36   46   75   99   88  \n",
      "37   72   22   87   61   38   50  \n",
      "38   29   30   50   58   16   49  \n",
      "39    2    8   79   17   70   98  \n",
      "40   17   96    1   26   41   45  \n",
      "41   52    7   57   66   53   75  \n",
      "42   13   84   17   66   73   24  \n",
      "43   29   99   57   43   86   82  \n",
      "44   65    7    6   30    6   21  \n",
      "45   15   87   30   44   60   93  \n",
      "46   21   87   48   18   74   74  \n",
      "47   29    9   98   29   71   88  \n",
      "48   40   50   44   79   97   49  \n",
      "49   78   33   18   67   46    3  \n",
      "\n",
      "[50 rows x 1000 columns]\n",
      "     0\n",
      "0   61\n",
      "1   14\n",
      "2   34\n",
      "3   77\n",
      "4    7\n",
      "5   89\n",
      "6    9\n",
      "7   83\n",
      "8   42\n",
      "9   62\n",
      "10   8\n",
      "11  36\n",
      "12  23\n",
      "13  24\n",
      "14  40\n",
      "15   2\n",
      "16  32\n",
      "17   4\n",
      "18  75\n",
      "19  49\n",
      "20  45\n",
      "21  91\n",
      "22  10\n",
      "23  98\n",
      "24  92\n",
      "25  17\n",
      "26  38\n",
      "27  44\n",
      "28  54\n",
      "29  84\n",
      "30  11\n",
      "31  39\n",
      "32  32\n",
      "33  11\n",
      "34  84\n",
      "35  84\n",
      "36  41\n",
      "37  10\n",
      "38  76\n",
      "39  15\n",
      "40  97\n",
      "41  35\n",
      "42  15\n",
      "43  36\n",
      "44   1\n",
      "45  34\n",
      "46  54\n",
      "47  63\n",
      "48  63\n",
      "49  60\n"
     ]
    }
   ],
   "source": [
    "# Features and targets should always be in form of dataframes\n",
    "# For this notebook we will be using junk data for simplicity\n",
    "# Results of feature selection, etc. will probably be pretty bad due to this\n",
    "\n",
    "rand_feat = np.random.randint(0, 100, size=(50, 1000)) # 50 samples, 1000 feats\n",
    "feat_df = pd.DataFrame(rand_feat)\n",
    "print(feat_df)\n",
    "\n",
    "rand_targ = np.random.randint(0, 100, size=(50, 1))\n",
    "target_df = pd.DataFrame(rand_targ)\n",
    "print(target_df)"
   ]
  },
  {
   "cell_type": "markdown",
   "metadata": {},
   "source": [
    "## The components of the combinatorial workflow"
   ]
  },
  {
   "cell_type": "markdown",
   "metadata": {},
   "source": [
    "#### 3. Models and cross-validators"
   ]
  },
  {
   "cell_type": "markdown",
   "metadata": {},
   "source": [
    "Notice how these are passed as initialized objects"
   ]
  },
  {
   "cell_type": "code",
   "execution_count": 11,
   "metadata": {},
   "outputs": [],
   "source": [
    "from sklearn.linear_model import Ridge, Lasso, ElasticNet\n",
    "from sklearn.model_selection import KFold, LeaveOneOut"
   ]
  },
  {
   "cell_type": "code",
   "execution_count": 13,
   "metadata": {},
   "outputs": [],
   "source": [
    "# Give models hyperparams now, but you can change them later based on hyperparameter tuning\n",
    "models = [(\"Ridge\"), Ridge(1, random_state=42), (\"Lasso\", Lasso(0.005)), (\"ElasticNet\", ElasticNet(0.0001, l1_ratio=0.75, random_state=42))]"
   ]
  },
  {
   "cell_type": "code",
   "execution_count": 14,
   "metadata": {},
   "outputs": [],
   "source": [
    "cvs = [(\"3-Fold\", KFold(3, shuffle=True, random_state=42)), (\"LOO\", LeaveOneOut())]"
   ]
  },
  {
   "cell_type": "markdown",
   "metadata": {},
   "source": [
    "#### 4. Feature selectors, outlier detectors, and scoring metrics"
   ]
  },
  {
   "cell_type": "markdown",
   "metadata": {},
   "source": [
    "Notice how these are passed as classes with parameters as dictionaries"
   ]
  },
  {
   "cell_type": "code",
   "execution_count": null,
   "metadata": {},
   "outputs": [],
   "source": []
  },
  {
   "cell_type": "markdown",
   "metadata": {},
   "source": [
    "## Hyperparameter Tuning"
   ]
  },
  {
   "cell_type": "markdown",
   "metadata": {},
   "source": [
    "Biggest hiccups with this function are...  \n",
    "a. Number of hyperparameters to tune are hardcoded (pretty simple to change though around line 362 in pipes.py)  \n",
    "b. Can only tune models with same hyperparameters in a given run (must run separately for other models)\n",
    "\n",
    "Also only 3-fold and RFECV are used during this stage, but they should be fine for your use "
   ]
  }
 ],
 "metadata": {
  "kernelspec": {
   "display_name": "DFT",
   "language": "python",
   "name": "python3"
  },
  "language_info": {
   "codemirror_mode": {
    "name": "ipython",
    "version": 3
   },
   "file_extension": ".py",
   "mimetype": "text/x-python",
   "name": "python",
   "nbconvert_exporter": "python",
   "pygments_lexer": "ipython3",
   "version": "3.11.4"
  }
 },
 "nbformat": 4,
 "nbformat_minor": 2
}
