{
 "cells": [
  {
   "cell_type": "markdown",
   "metadata": {},
   "source": [
    "# Ensemble feature viz first (for c1 and c2)"
   ]
  },
  {
   "cell_type": "code",
   "execution_count": 2,
   "metadata": {},
   "outputs": [],
   "source": [
    "import molli as ml\n",
    "import molli.visual\n",
    "import molli.visual.backend_pyvista\n",
    "import pyvista\n",
    "import numpy as np\n",
    "import matplotlib.pyplot as plt"
   ]
  },
  {
   "cell_type": "markdown",
   "metadata": {},
   "source": [
    "### For c2 regularized models"
   ]
  },
  {
   "cell_type": "code",
   "execution_count": 3,
   "metadata": {},
   "outputs": [],
   "source": [
    "selected = np.load(\"../aso-modeling-out/_target_fix_reruns/full_regularized/all_features.npy\")\n",
    "selected_IDW_1 = np.load(\"../aso-modeling-out/_target_fix_reruns/full_regularized/all_features_IDW_1.npy\")\n",
    "selected_IDW_2 = np.load(\"../aso-modeling-out/_target_fix_reruns/full_regularized/all_features_IDW_2.npy\")\n",
    "selected_IDW_3 = np.load(\"../aso-modeling-out/_target_fix_reruns/full_regularized/all_features_IDW_3.npy\")"
   ]
  },
  {
   "cell_type": "code",
   "execution_count": 4,
   "metadata": {},
   "outputs": [],
   "source": [
    "grid = np.load(\"grid.npy\")"
   ]
  },
  {
   "cell_type": "markdown",
   "metadata": {},
   "source": [
    "For whatever reason, a lot of features were selected in this run"
   ]
  },
  {
   "cell_type": "code",
   "execution_count": 5,
   "metadata": {},
   "outputs": [
    {
     "name": "stdout",
     "output_type": "stream",
     "text": [
      "10352\n"
     ]
    }
   ],
   "source": [
    "ids = selected[:, 0].astype(int)\n",
    "freq = selected[:, 1].astype(np.float64)\n",
    "filtered = grid[ids]\n",
    "print(len(filtered))"
   ]
  },
  {
   "cell_type": "code",
   "execution_count": 10,
   "metadata": {},
   "outputs": [
    {
     "name": "stdout",
     "output_type": "stream",
     "text": [
      "7770\n"
     ]
    }
   ],
   "source": [
    "more_than_twice = np.array([i for i in selected if i[1].astype(np.float64) > 2])\n",
    "print(len(more_than_twice))"
   ]
  },
  {
   "cell_type": "code",
   "execution_count": 7,
   "metadata": {},
   "outputs": [],
   "source": [
    "more_ids = more_than_twice[:, 0].astype(int)\n",
    "more_freqs = more_than_twice[:, 1].astype(int)"
   ]
  },
  {
   "cell_type": "code",
   "execution_count": 8,
   "metadata": {},
   "outputs": [
    {
     "data": {
      "text/plain": [
       "<BarContainer object of 7770 artists>"
      ]
     },
     "execution_count": 8,
     "metadata": {},
     "output_type": "execute_result"
    },
    {
     "data": {
      "image/png": "[encoded data removed]",
      "text/plain": [
       "<Figure size 640x480 with 1 Axes>"
      ]
     },
     "metadata": {},
     "output_type": "display_data"
    }
   ],
   "source": [
    "plt.bar(more_ids.astype(str), more_freqs)"
   ]
  },
  {
   "cell_type": "markdown",
   "metadata": {},
   "source": [
    "Think about applying statistical analysis. I.e find out threshold of selection for features to be statistically significant"
   ]
  },
  {
   "cell_type": "code",
   "execution_count": 46,
   "metadata": {},
   "outputs": [
    {
     "name": "stdout",
     "output_type": "stream",
     "text": [
      "47\n"
     ]
    }
   ],
   "source": [
    "more_than_six = np.array([i for i in selected if i[1].astype(np.float64) > 6])\n",
    "print(len(more_than_six))"
   ]
  },
  {
   "cell_type": "code",
   "execution_count": 47,
   "metadata": {},
   "outputs": [],
   "source": [
    "more_ids = more_than_six[:, 0].astype(int)\n",
    "more_freqs = more_than_six[:, 1].astype(int)"
   ]
  },
  {
   "cell_type": "code",
   "execution_count": 48,
   "metadata": {},
   "outputs": [
    {
     "data": {
      "text/plain": [
       "[0.2916666666666667,\n",
       " 0.4166666666666667,\n",
       " 0.2916666666666667,\n",
       " 0.2916666666666667,\n",
       " 0.375,\n",
       " 0.3333333333333333,\n",
       " 0.4583333333333333,\n",
       " 0.2916666666666667,\n",
       " 0.3333333333333333,\n",
       " 0.4166666666666667,\n",
       " 0.4583333333333333,\n",
       " 0.4583333333333333,\n",
       " 0.4583333333333333,\n",
       " 0.2916666666666667,\n",
       " 0.4166666666666667,\n",
       " 0.2916666666666667,\n",
       " 0.3333333333333333,\n",
       " 0.375,\n",
       " 0.3333333333333333,\n",
       " 0.6666666666666666,\n",
       " 0.2916666666666667,\n",
       " 0.3333333333333333,\n",
       " 0.375,\n",
       " 0.3333333333333333,\n",
       " 0.375,\n",
       " 0.4166666666666667,\n",
       " 0.375,\n",
       " 0.4166666666666667,\n",
       " 0.5416666666666666,\n",
       " 0.2916666666666667,\n",
       " 0.3333333333333333,\n",
       " 0.5416666666666666,\n",
       " 0.4583333333333333,\n",
       " 0.375,\n",
       " 0.4583333333333333,\n",
       " 0.2916666666666667,\n",
       " 0.3333333333333333,\n",
       " 0.4166666666666667,\n",
       " 0.2916666666666667,\n",
       " 0.3333333333333333,\n",
       " 0.2916666666666667,\n",
       " 0.2916666666666667,\n",
       " 0.2916666666666667,\n",
       " 0.2916666666666667,\n",
       " 0.2916666666666667,\n",
       " 0.2916666666666667,\n",
       " 0.2916666666666667]"
      ]
     },
     "execution_count": 48,
     "metadata": {},
     "output_type": "execute_result"
    }
   ],
   "source": [
    "# gotta convert to frequency\n",
    "# 24 feature selecting pipelines in full_reg\n",
    "more_freqs = [float(i) / 24 for i in more_freqs]\n",
    "more_freqs"
   ]
  },
  {
   "cell_type": "code",
   "execution_count": 50,
   "metadata": {},
   "outputs": [
    {
     "data": {
      "text/plain": [
       "<BarContainer object of 47 artists>"
      ]
     },
     "execution_count": 50,
     "metadata": {},
     "output_type": "execute_result"
    },
    {
     "data": {
      "image/png": "[encoded data removed]",
      "text/plain": [
       "<Figure size 640x480 with 1 Axes>"
      ]
     },
     "metadata": {},
     "output_type": "display_data"
    }
   ],
   "source": [
    "plt.bar(more_ids.astype(str), more_freqs)"
   ]
  },
  {
   "cell_type": "code",
   "execution_count": 51,
   "metadata": {},
   "outputs": [],
   "source": [
    "filtered_more = grid[more_ids]"
   ]
  },
  {
   "cell_type": "code",
   "execution_count": 52,
   "metadata": {},
   "outputs": [],
   "source": [
    "cloud = pyvista.PolyData(filtered_more)\n",
    "cloud.point_data[\"values\"] = more_freqs"
   ]
  },
  {
   "cell_type": "code",
   "execution_count": 123,
   "metadata": {},
   "outputs": [],
   "source": [
    "plotter = pyvista.Plotter()"
   ]
  },
  {
   "cell_type": "code",
   "execution_count": 124,
   "metadata": {},
   "outputs": [
    {
     "data": {
      "text/plain": [
       "Actor (0x7f13acf03d60)\n",
       "  Center:                     (2.959549903869629, 1.3513498306274414, 1.272900104522705)\n",
       "  Pickable:                   True\n",
       "  Position:                   (0.0, 0.0, 0.0)\n",
       "  Scale:                      (1.0, 1.0, 1.0)\n",
       "  Visible:                    True\n",
       "  X Bounds                    -4.540E+00, 1.046E+01\n",
       "  Y Bounds                    -6.149E+00, 8.851E+00\n",
       "  Z Bounds                    -6.227E+00, 8.773E+00\n",
       "  User matrix:                Unset\n",
       "  Has mapper:                 True\n",
       "\n",
       "Property (0x7f13acf02440)\n",
       "  Ambient:                     0.0\n",
       "  Ambient color:               Color(name='white', hex='#ffffffff', opacity=255)\n",
       "  Anisotropy:                  0.0\n",
       "  Color:                       Color(name='white', hex='#ffffffff', opacity=255)\n",
       "  Culling:                     \"none\"\n",
       "  Diffuse:                     1.0\n",
       "  Diffuse color:               Color(name='white', hex='#ffffffff', opacity=255)\n",
       "  Edge color:                  Color(name='black', hex='#000000ff', opacity=255)\n",
       "  Interpolation:               InterpolationType.FLAT\n",
       "  Lighting:                    True\n",
       "  Line width:                  1.0\n",
       "  Metallic:                    0.0\n",
       "  Opacity:                     1.0\n",
       "  Point size:                  15.0\n",
       "  Render lines as tubes:       False\n",
       "  Render points as spheres:    True\n",
       "  Roughness:                   0.5\n",
       "  Show edges:                  False\n",
       "  Specular:                    0.0\n",
       "  Specular color:              Color(name='white', hex='#ffffffff', opacity=255)\n",
       "  Specular power:              100.0\n",
       "  Style:                       \"Points\"\n",
       "\n",
       "DataSetMapper (0x7f13ad0d6680)\n",
       "  Scalar visibility:           True\n",
       "  Scalar range:                (0.2916666666666667, 0.6666666666666666)\n",
       "  Interpolate before mapping:  True\n",
       "  Scalar map mode:             point\n",
       "  Color mode:                  map\n",
       "\n",
       "Attached dataset:\n",
       "PolyData (0x7f13c05267a0)\n",
       "  N Cells:    47\n",
       "  N Points:   47\n",
       "  N Strips:   0\n",
       "  X Bounds:   -4.540e+00, 1.046e+01\n",
       "  Y Bounds:   -6.149e+00, 8.851e+00\n",
       "  Z Bounds:   -6.227e+00, 8.773e+00\n",
       "  N Arrays:   1"
      ]
     },
     "execution_count": 124,
     "metadata": {},
     "output_type": "execute_result"
    }
   ],
   "source": [
    "# Mess with coloration here (coolwarm -> RdYlGn)\n",
    "# point_size kwarg (default is 5.0)\n",
    "plotter.background_color = \"slategrey\"\n",
    "scargs = {\"color\": \"black\"}\n",
    "plotter.add_points(cloud, render_points_as_spheres=True, cmap=\"RdYlGn\", \n",
    "                   clim=[min(more_freqs), max(more_freqs)], point_size=15, scalar_bar_args=scargs)\n",
    "\n"
   ]
  },
  {
   "cell_type": "code",
   "execution_count": 126,
   "metadata": {},
   "outputs": [
    {
     "data": {
      "application/vnd.jupyter.widget-view+json": {
       "model_id": "9737624462f440eb8b8ab0b29f363561",
       "version_major": 2,
       "version_minor": 0
      },
      "text/plain": [
       "Widget(value=\"<iframe src='http://localhost:33757/index.html?ui=P_0x7f139f854b10_21&reconnect=auto' style='wid…"
      ]
     },
     "metadata": {},
     "output_type": "display_data"
    },
    {
     "name": "stdout",
     "output_type": "stream",
     "text": [
      " JS Error => error: Uncaught TypeError: Cannot mix BigInt and other types, use explicit conversions\n",
      " JS Error => error: Uncaught TypeError: Cannot mix BigInt and other types, use explicit conversions\n"
     ]
    }
   ],
   "source": [
    "plotter.show()"
   ]
  },
  {
   "cell_type": "code",
   "execution_count": 116,
   "metadata": {},
   "outputs": [
    {
     "data": {
      "application/3dmoljs_load.v0": "<div id=\"3dmolviewer_17015693295259676\"  style=\"position: relative; width: 1000px; height: 500px\">\n        <p id=\"3dmolwarning_17015693295259676\" style=\"background-color:#ffcccc;color:black\">You appear to be running in JupyterLab (or JavaScript failed to load for some other reason).  You need to install the 3dmol extension: <br>\n        <tt>jupyter labextension install jupyterlab_3dmol</tt></p>\n        </div>\n<script>\n\nvar loadScriptAsync = function(uri){\n  return new Promise((resolve, reject) => {\n    //this is to ignore the existence of requirejs amd\n    var savedexports, savedmodule;\n    if (typeof exports !== 'undefined') savedexports = exports;\n    else exports = {}\n    if (typeof module !== 'undefined') savedmodule = module;\n    else module = {}\n\n    var tag = document.createElement('script');\n    tag.src = uri;\n    tag.async = true;\n    tag.onload = () => {\n        exports = savedexports;\n        module = savedmodule;\n        resolve();\n    };\n  var firstScriptTag = document.getElementsByTagName('script')[0];\n  firstScriptTag.parentNode.insertBefore(tag, firstScriptTag);\n});\n};\n\nif(typeof $3Dmolpromise === 'undefined') {\n$3Dmolpromise = null;\n  $3Dmolpromise = loadScriptAsync('https://cdnjs.cloudflare.com/ajax/libs/3Dmol/2.0.1/3Dmol-min.js');\n}\n\nvar viewer_17015693295259676 = null;\nvar warn = document.getElementById(\"3dmolwarning_17015693295259676\");\nif(warn) {\n    warn.parentNode.removeChild(warn);\n}\n$3Dmolpromise.then(function() {\nviewer_17015693295259676 = $3Dmol.createViewer(document.getElementById(\"3dmolviewer_17015693295259676\"),{backgroundColor:\"white\"});\nviewer_17015693295259676.zoomTo();\n\tviewer_17015693295259676.addModel(\"# Produced with molli package\\n@<TRIPOS>MOLECULE\\naa_1\\n43 48 0 0 0\\nSMALL\\nUSER_CHARGES\\n\\n@<TRIPOS>ATOM\\n     1 C       3.319400    -2.669000     2.400100 C.3        1 UNL1 0.0\\n     2 C       2.814200    -3.449400     1.166700 C.3        1 UNL1 0.0\\n     3 O       2.167800    -2.452900     0.360000 O.2        1 UNL1 0.0\\n     4 C       2.532600    -1.253900     0.807600 C.2        1 UNL1 0.0\\n     5 N       3.230300    -1.274800     1.873400 N.2        1 UNL1 0.0\\n     6 C       2.091100    -0.020900     0.137900 C.3        1 UNL1 0.0\\n     7 C       2.539400     1.209600     0.807600 C.2        1 UNL1 0.0\\n     8 O       2.270300     2.410400     0.300900 O.2        1 UNL1 0.0\\n     9 C       2.765000     3.403700     1.212100 C.3        1 UNL1 0.0\\n    10 C       3.704900     2.619300     2.153900 C.3        1 UNL1 0.0\\n    11 N       3.251500     1.226600     1.864000 N.2        1 UNL1 0.0\\n    12 C       1.613400     3.989200     2.055100 C.3        1 UNL1 0.0\\n    13 C       2.172800     3.909200     3.439500 C.ar       1 UNL1 0.0\\n    14 C       3.367400     3.182100     3.486500 C.ar       1 UNL1 0.0\\n    15 C       1.648100     4.500800     4.576200 C.ar       1 UNL1 0.0\\n    16 C       2.359100     4.388600     5.770300 C.ar       1 UNL1 0.0\\n    17 C       3.583600     3.708800     5.810700 C.ar       1 UNL1 0.0\\n    18 C       4.102900     3.108600     4.662200 C.ar       1 UNL1 0.0\\n    19 C       4.677700    -3.234700     2.604200 C.ar       1 UNL1 0.0\\n    20 C       5.096200    -3.959600     1.482900 C.ar       1 UNL1 0.0\\n    21 C       4.036700    -4.035100     0.430300 C.3        1 UNL1 0.0\\n    22 C       5.476500    -3.165500     3.738200 C.ar       1 UNL1 0.0\\n    23 C       6.735400    -3.767700     3.703100 C.ar       1 UNL1 0.0\\n    24 C       7.171700    -4.445300     2.556900 C.ar       1 UNL1 0.0\\n    25 C       6.346400    -4.553300     1.438400 C.ar       1 UNL1 0.0\\n    26 H       3.296600     4.185600     0.657200 H          1 UNL1 0.0\\n    27 H       4.752500     2.740000     1.862500 H          1 UNL1 0.0\\n    28 H       2.644500    -2.790800     3.252700 H          1 UNL1 0.0\\n    29 H       2.095400    -4.230800     1.439600 H          1 UNL1 0.0\\n    30 H       2.477500    -0.024100    -0.886900 H          1 UNL1 0.0\\n    31 H       0.996700    -0.015700     0.096700 H          1 UNL1 0.0\\n    32 H       1.419500     5.027600     1.768500 H          1 UNL1 0.0\\n    33 H       0.690800     3.406400     1.967700 H          1 UNL1 0.0\\n    34 H       0.721000     5.069800     4.548400 H          1 UNL1 0.0\\n    35 H       1.976000     4.861400     6.674600 H          1 UNL1 0.0\\n    36 H       4.137400     3.669800     6.748700 H          1 UNL1 0.0\\n    37 H       5.072400     2.620400     4.721000 H          1 UNL1 0.0\\n    38 H       4.314800    -3.450400    -0.452400 H          1 UNL1 0.0\\n    39 H       3.846000    -5.072400     0.137900 H          1 UNL1 0.0\\n    40 H       5.155600    -2.679100     4.655900 H          1 UNL1 0.0\\n    41 H       7.385500    -3.732100     4.577300 H          1 UNL1 0.0\\n    42 H       8.153000    -4.919800     2.553200 H          1 UNL1 0.0\\n    43 H       6.679100    -5.120600     0.571500 H          1 UNL1 0.0\\n@<TRIPOS>BOND\\n     1      1      2          1\\n     2      2      3          1\\n     3      3      4          1\\n     4      4      5          2\\n     5      5      1          1\\n     6      4      6          1\\n     7      6      7          1\\n     8      7      8          1\\n     9      8      9          1\\n    10      9     10          1\\n    11     10     11          1\\n    12     11      7          2\\n    13      9     12          1\\n    14     12     13          1\\n    15     13     14         ar\\n    16     14     10          1\\n    17     13     15         ar\\n    18     15     16         ar\\n    19     16     17         ar\\n    20     17     18         ar\\n    21     18     14         ar\\n    22      1     19          1\\n    23     19     20         ar\\n    24     20     21          1\\n    25     21      2          1\\n    26     19     22         ar\\n    27     22     23         ar\\n    28     23     24         ar\\n    29     24     25         ar\\n    30     25     20         ar\\n    31      9     26          1\\n    32     10     27          1\\n    33      1     28          1\\n    34      2     29          1\\n    35      6     30          1\\n    36      6     31          1\\n    37     12     32          1\\n    38     12     33          1\\n    39     15     34          1\\n    40     16     35          1\\n    41     17     36          1\\n    42     18     37          1\\n    43     21     38          1\\n    44     21     39          1\\n    45     22     40          1\\n    46     23     41          1\\n    47     24     42          1\\n    48     25     43          1\\n\",\"mol2\");\n\tviewer_17015693295259676.setStyle({\"stick\": {\"radius\": 0.1}, \"sphere\": {\"scale\": 0.15}});\n\tviewer_17015693295259676.setHoverable({},true,\"\\n            function(atom,viewer,event,container) {\\n                if(!atom.label) {\\n                    atom.label = viewer.addLabel(atom.elem + atom.serial, {position: atom, backgroundColor: 'mintcream', fontColor:'black'});\\n                }\\n            }\\n            \",\"\\n            function(atom,viewer) { \\n                if(atom.label) {\\n                    viewer.removeLabel(atom.label);\\n                    delete atom.label;\\n                }\\n            }\\n            \");\n\tviewer_17015693295259676.zoomTo();\n\tviewer_17015693295259676.setBackgroundColor(null);\nviewer_17015693295259676.render();\n});\n</script>",
      "text/html": [
       "<div id=\"3dmolviewer_17015693295259676\"  style=\"position: relative; width: 1000px; height: 500px\">\n",
       "        <p id=\"3dmolwarning_17015693295259676\" style=\"background-color:#ffcccc;color:black\">You appear to be running in JupyterLab (or JavaScript failed to load for some other reason).  You need to install the 3dmol extension: <br>\n",
       "        <tt>jupyter labextension install jupyterlab_3dmol</tt></p>\n",
       "        </div>\n",
       "<script>\n",
       "\n",
       "var loadScriptAsync = function(uri){\n",
       "  return new Promise((resolve, reject) => {\n",
       "    //this is to ignore the existence of requirejs amd\n",
       "    var savedexports, savedmodule;\n",
       "    if (typeof exports !== 'undefined') savedexports = exports;\n",
       "    else exports = {}\n",
       "    if (typeof module !== 'undefined') savedmodule = module;\n",
       "    else module = {}\n",
       "\n",
       "    var tag = document.createElement('script');\n",
       "    tag.src = uri;\n",
       "    tag.async = true;\n",
       "    tag.onload = () => {\n",
       "        exports = savedexports;\n",
       "        module = savedmodule;\n",
       "        resolve();\n",
       "    };\n",
       "  var firstScriptTag = document.getElementsByTagName('script')[0];\n",
       "  firstScriptTag.parentNode.insertBefore(tag, firstScriptTag);\n",
       "});\n",
       "};\n",
       "\n",
       "if(typeof $3Dmolpromise === 'undefined') {\n",
       "$3Dmolpromise = null;\n",
       "  $3Dmolpromise = loadScriptAsync('https://cdnjs.cloudflare.com/ajax/libs/3Dmol/2.0.1/3Dmol-min.js');\n",
       "}\n",
       "\n",
       "var viewer_17015693295259676 = null;\n",
       "var warn = document.getElementById(\"3dmolwarning_17015693295259676\");\n",
       "if(warn) {\n",
       "    warn.parentNode.removeChild(warn);\n",
       "}\n",
       "$3Dmolpromise.then(function() {\n",
       "viewer_17015693295259676 = $3Dmol.createViewer(document.getElementById(\"3dmolviewer_17015693295259676\"),{backgroundColor:\"white\"});\n",
       "viewer_17015693295259676.zoomTo();\n",
       "\tviewer_17015693295259676.addModel(\"# Produced with molli package\\n@<TRIPOS>MOLECULE\\naa_1\\n43 48 0 0 0\\nSMALL\\nUSER_CHARGES\\n\\n@<TRIPOS>ATOM\\n     1 C       3.319400    -2.669000     2.400100 C.3        1 UNL1 0.0\\n     2 C       2.814200    -3.449400     1.166700 C.3        1 UNL1 0.0\\n     3 O       2.167800    -2.452900     0.360000 O.2        1 UNL1 0.0\\n     4 C       2.532600    -1.253900     0.807600 C.2        1 UNL1 0.0\\n     5 N       3.230300    -1.274800     1.873400 N.2        1 UNL1 0.0\\n     6 C       2.091100    -0.020900     0.137900 C.3        1 UNL1 0.0\\n     7 C       2.539400     1.209600     0.807600 C.2        1 UNL1 0.0\\n     8 O       2.270300     2.410400     0.300900 O.2        1 UNL1 0.0\\n     9 C       2.765000     3.403700     1.212100 C.3        1 UNL1 0.0\\n    10 C       3.704900     2.619300     2.153900 C.3        1 UNL1 0.0\\n    11 N       3.251500     1.226600     1.864000 N.2        1 UNL1 0.0\\n    12 C       1.613400     3.989200     2.055100 C.3        1 UNL1 0.0\\n    13 C       2.172800     3.909200     3.439500 C.ar       1 UNL1 0.0\\n    14 C       3.367400     3.182100     3.486500 C.ar       1 UNL1 0.0\\n    15 C       1.648100     4.500800     4.576200 C.ar       1 UNL1 0.0\\n    16 C       2.359100     4.388600     5.770300 C.ar       1 UNL1 0.0\\n    17 C       3.583600     3.708800     5.810700 C.ar       1 UNL1 0.0\\n    18 C       4.102900     3.108600     4.662200 C.ar       1 UNL1 0.0\\n    19 C       4.677700    -3.234700     2.604200 C.ar       1 UNL1 0.0\\n    20 C       5.096200    -3.959600     1.482900 C.ar       1 UNL1 0.0\\n    21 C       4.036700    -4.035100     0.430300 C.3        1 UNL1 0.0\\n    22 C       5.476500    -3.165500     3.738200 C.ar       1 UNL1 0.0\\n    23 C       6.735400    -3.767700     3.703100 C.ar       1 UNL1 0.0\\n    24 C       7.171700    -4.445300     2.556900 C.ar       1 UNL1 0.0\\n    25 C       6.346400    -4.553300     1.438400 C.ar       1 UNL1 0.0\\n    26 H       3.296600     4.185600     0.657200 H          1 UNL1 0.0\\n    27 H       4.752500     2.740000     1.862500 H          1 UNL1 0.0\\n    28 H       2.644500    -2.790800     3.252700 H          1 UNL1 0.0\\n    29 H       2.095400    -4.230800     1.439600 H          1 UNL1 0.0\\n    30 H       2.477500    -0.024100    -0.886900 H          1 UNL1 0.0\\n    31 H       0.996700    -0.015700     0.096700 H          1 UNL1 0.0\\n    32 H       1.419500     5.027600     1.768500 H          1 UNL1 0.0\\n    33 H       0.690800     3.406400     1.967700 H          1 UNL1 0.0\\n    34 H       0.721000     5.069800     4.548400 H          1 UNL1 0.0\\n    35 H       1.976000     4.861400     6.674600 H          1 UNL1 0.0\\n    36 H       4.137400     3.669800     6.748700 H          1 UNL1 0.0\\n    37 H       5.072400     2.620400     4.721000 H          1 UNL1 0.0\\n    38 H       4.314800    -3.450400    -0.452400 H          1 UNL1 0.0\\n    39 H       3.846000    -5.072400     0.137900 H          1 UNL1 0.0\\n    40 H       5.155600    -2.679100     4.655900 H          1 UNL1 0.0\\n    41 H       7.385500    -3.732100     4.577300 H          1 UNL1 0.0\\n    42 H       8.153000    -4.919800     2.553200 H          1 UNL1 0.0\\n    43 H       6.679100    -5.120600     0.571500 H          1 UNL1 0.0\\n@<TRIPOS>BOND\\n     1      1      2          1\\n     2      2      3          1\\n     3      3      4          1\\n     4      4      5          2\\n     5      5      1          1\\n     6      4      6          1\\n     7      6      7          1\\n     8      7      8          1\\n     9      8      9          1\\n    10      9     10          1\\n    11     10     11          1\\n    12     11      7          2\\n    13      9     12          1\\n    14     12     13          1\\n    15     13     14         ar\\n    16     14     10          1\\n    17     13     15         ar\\n    18     15     16         ar\\n    19     16     17         ar\\n    20     17     18         ar\\n    21     18     14         ar\\n    22      1     19          1\\n    23     19     20         ar\\n    24     20     21          1\\n    25     21      2          1\\n    26     19     22         ar\\n    27     22     23         ar\\n    28     23     24         ar\\n    29     24     25         ar\\n    30     25     20         ar\\n    31      9     26          1\\n    32     10     27          1\\n    33      1     28          1\\n    34      2     29          1\\n    35      6     30          1\\n    36      6     31          1\\n    37     12     32          1\\n    38     12     33          1\\n    39     15     34          1\\n    40     16     35          1\\n    41     17     36          1\\n    42     18     37          1\\n    43     21     38          1\\n    44     21     39          1\\n    45     22     40          1\\n    46     23     41          1\\n    47     24     42          1\\n    48     25     43          1\\n\",\"mol2\");\n",
       "\tviewer_17015693295259676.setStyle({\"stick\": {\"radius\": 0.1}, \"sphere\": {\"scale\": 0.15}});\n",
       "\tviewer_17015693295259676.setHoverable({},true,\"\\n            function(atom,viewer,event,container) {\\n                if(!atom.label) {\\n                    atom.label = viewer.addLabel(atom.elem + atom.serial, {position: atom, backgroundColor: 'mintcream', fontColor:'black'});\\n                }\\n            }\\n            \",\"\\n            function(atom,viewer) { \\n                if(atom.label) {\\n                    viewer.removeLabel(atom.label);\\n                    delete atom.label;\\n                }\\n            }\\n            \");\n",
       "\tviewer_17015693295259676.zoomTo();\n",
       "\tviewer_17015693295259676.setBackgroundColor(null);\n",
       "viewer_17015693295259676.render();\n",
       "});\n",
       "</script>"
      ]
     },
     "metadata": {},
     "output_type": "display_data"
    },
    {
     "data": {
      "text/plain": [
       "Conformer(name='aa_1', formula='C21 H18 N2 O2')"
      ]
     },
     "execution_count": 116,
     "metadata": {},
     "output_type": "execute_result"
    }
   ],
   "source": [
    "SI_lib = ml.ConformerLibrary(\"../nbo-cu-box-clean/caseys/conformers_no_linker.mlib\")\n",
    "SI_lib[\"aa_1\"][0] # aa_1 is just my go to"
   ]
  },
  {
   "cell_type": "code",
   "execution_count": 125,
   "metadata": {},
   "outputs": [],
   "source": [
    "ml.visual.backend_pyvista.plot_structure_as_wireframe(plotter, SI_lib[\"aa_1\"][0])"
   ]
  },
  {
   "cell_type": "code",
   "execution_count": 41,
   "metadata": {},
   "outputs": [
    {
     "name": "stdout",
     "output_type": "stream",
     "text": [
      "A view with name (P_0x7f139fc562d0_5) is already registered\n",
      " => returning previous one\n"
     ]
    },
    {
     "data": {
      "application/vnd.jupyter.widget-view+json": {
       "model_id": "16b8e9f741fb4c89929dc6115351c45a",
       "version_major": 2,
       "version_minor": 0
      },
      "text/plain": [
       "Widget(value=\"<iframe src='http://localhost:33757/index.html?ui=P_0x7f139fc562d0_5&reconnect=auto' style='widt…"
      ]
     },
     "metadata": {},
     "output_type": "display_data"
    },
    {
     "name": "stdout",
     "output_type": "stream",
     "text": [
      " JS Error => error: Uncaught TypeError: Cannot mix BigInt and other types, use explicit conversions\n"
     ]
    }
   ],
   "source": [
    "plotter.show()"
   ]
  },
  {
   "cell_type": "code",
   "execution_count": null,
   "metadata": {},
   "outputs": [],
   "source": [
    "plotter.save_graphic(\"c2.svg\")"
   ]
  },
  {
   "cell_type": "markdown",
   "metadata": {},
   "source": [
    "### Now for same models but w/ c1"
   ]
  },
  {
   "cell_type": "code",
   "execution_count": 128,
   "metadata": {},
   "outputs": [],
   "source": [
    "c1_selected = np.load(\"../aso-modeling-out/_target_fix_reruns/half_regularized/all_features.npy\")\n",
    "c1_selected_IDW_1 = np.load(\"../aso-modeling-out/_target_fix_reruns/half_regularized/all_features_IDW_1.npy\")\n",
    "c1_selected_IDW_2 = np.load(\"../aso-modeling-out/_target_fix_reruns/half_regularized/all_features_IDW_2.npy\")\n",
    "c1_selected_IDW_3 = np.load(\"../aso-modeling-out/_target_fix_reruns/half_regularized/all_features_IDW_3.npy\")"
   ]
  },
  {
   "cell_type": "code",
   "execution_count": 129,
   "metadata": {},
   "outputs": [
    {
     "data": {
      "text/plain": [
       "(14976, 3)"
      ]
     },
     "execution_count": 129,
     "metadata": {},
     "output_type": "execute_result"
    }
   ],
   "source": [
    "c1_grid = np.load(\"../grid_testing/casey_redo_all_halved.npy\")\n",
    "c1_grid.shape"
   ]
  },
  {
   "cell_type": "code",
   "execution_count": 130,
   "metadata": {},
   "outputs": [
    {
     "name": "stdout",
     "output_type": "stream",
     "text": [
      "1595\n"
     ]
    }
   ],
   "source": [
    "c1_ids = c1_selected[:, 0].astype(int)\n",
    "c1_freq = c1_selected[:, 1].astype(np.float64)\n",
    "c1_filtered = c1_grid[c1_ids]\n",
    "print(len(c1_filtered))"
   ]
  },
  {
   "cell_type": "code",
   "execution_count": 174,
   "metadata": {},
   "outputs": [
    {
     "name": "stdout",
     "output_type": "stream",
     "text": [
      "50\n"
     ]
    }
   ],
   "source": [
    "c1_six = np.array([i for i in c1_selected if i[1].astype(np.float64) > 8])\n",
    "print(len(c1_six))"
   ]
  },
  {
   "cell_type": "code",
   "execution_count": 175,
   "metadata": {},
   "outputs": [],
   "source": [
    "c1_more_ids = c1_six[:, 0].astype(int)\n",
    "c1_more_freqs = c1_six[:, 1].astype(int)\n",
    "c1_more_freqs = [float(i) / 24 for i in c1_more_freqs]  # converting to frequency"
   ]
  },
  {
   "cell_type": "code",
   "execution_count": 176,
   "metadata": {},
   "outputs": [
    {
     "name": "stdout",
     "output_type": "stream",
     "text": [
      "[0.375, 0.375, 0.375, 0.375, 0.5833333333333334, 0.625, 0.625, 0.375, 0.4166666666666667, 0.375, 0.5, 0.4166666666666667, 0.8333333333333334, 0.375, 0.4166666666666667, 0.375, 0.4166666666666667, 0.5833333333333334, 0.375, 0.375, 0.375, 0.4583333333333333, 0.5, 0.375, 0.4166666666666667, 0.7083333333333334, 0.4583333333333333, 0.4166666666666667, 0.5, 0.5416666666666666, 0.5, 0.5, 0.5416666666666666, 0.5, 0.4583333333333333, 0.4166666666666667, 0.4583333333333333, 0.5416666666666666, 0.4583333333333333, 0.375, 0.5416666666666666, 0.5, 0.375, 0.4166666666666667, 0.375, 0.4583333333333333, 0.375, 0.375, 0.4583333333333333, 0.5]\n"
     ]
    }
   ],
   "source": [
    "print(c1_more_freqs)"
   ]
  },
  {
   "cell_type": "markdown",
   "metadata": {},
   "source": [
    "! C1 run has additional \"blank\" outlier run compared to C2 run, but LOF is equivalent to blank, so extra unneccesary runs !"
   ]
  },
  {
   "cell_type": "markdown",
   "metadata": {},
   "source": [
    "^ I fixed it with the \"_skip\" arrays"
   ]
  },
  {
   "cell_type": "code",
   "execution_count": 177,
   "metadata": {},
   "outputs": [
    {
     "data": {
      "text/plain": [
       "<BarContainer object of 50 artists>"
      ]
     },
     "execution_count": 177,
     "metadata": {},
     "output_type": "execute_result"
    },
    {
     "data": {
      "image/png": "[encoded data removed]",
      "text/plain": [
       "<Figure size 640x480 with 1 Axes>"
      ]
     },
     "metadata": {},
     "output_type": "display_data"
    }
   ],
   "source": [
    "plt.bar(c1_more_ids.astype(str), c1_more_freqs)"
   ]
  },
  {
   "cell_type": "code",
   "execution_count": 178,
   "metadata": {},
   "outputs": [],
   "source": [
    "c1_filtered_more = c1_grid[c1_more_ids]"
   ]
  },
  {
   "cell_type": "code",
   "execution_count": 179,
   "metadata": {},
   "outputs": [],
   "source": [
    "cloud = pyvista.PolyData(c1_filtered_more)\n",
    "cloud.point_data[\"values\"] = c1_more_freqs"
   ]
  },
  {
   "cell_type": "code",
   "execution_count": 180,
   "metadata": {},
   "outputs": [],
   "source": [
    "plotter = pyvista.Plotter()"
   ]
  },
  {
   "cell_type": "code",
   "execution_count": 181,
   "metadata": {},
   "outputs": [
    {
     "data": {
      "text/plain": [
       "Actor (0x7f139ca55f00)\n",
       "  Center:                     (2.0226998329162598, 1.6727499961853027, 1.272900104522705)\n",
       "  Pickable:                   True\n",
       "  Position:                   (0.0, 0.0, 0.0)\n",
       "  Scale:                      (1.0, 1.0, 1.0)\n",
       "  Visible:                    True\n",
       "  X Bounds                    -4.477E+00, 8.523E+00\n",
       "  Y Bounds                    -5.327E+00, 8.673E+00\n",
       "  Z Bounds                    -6.227E+00, 8.773E+00\n",
       "  User matrix:                Unset\n",
       "  Has mapper:                 True\n",
       "\n",
       "Property (0x7f13cbe51c00)\n",
       "  Ambient:                     0.0\n",
       "  Ambient color:               Color(name='white', hex='#ffffffff', opacity=255)\n",
       "  Anisotropy:                  0.0\n",
       "  Color:                       Color(name='white', hex='#ffffffff', opacity=255)\n",
       "  Culling:                     \"none\"\n",
       "  Diffuse:                     1.0\n",
       "  Diffuse color:               Color(name='white', hex='#ffffffff', opacity=255)\n",
       "  Edge color:                  Color(name='black', hex='#000000ff', opacity=255)\n",
       "  Interpolation:               InterpolationType.FLAT\n",
       "  Lighting:                    True\n",
       "  Line width:                  1.0\n",
       "  Metallic:                    0.0\n",
       "  Opacity:                     1.0\n",
       "  Point size:                  15.0\n",
       "  Render lines as tubes:       False\n",
       "  Render points as spheres:    True\n",
       "  Roughness:                   0.5\n",
       "  Show edges:                  False\n",
       "  Specular:                    0.0\n",
       "  Specular color:              Color(name='white', hex='#ffffffff', opacity=255)\n",
       "  Specular power:              100.0\n",
       "  Style:                       \"Points\"\n",
       "\n",
       "DataSetMapper (0x7f139ca94c40)\n",
       "  Scalar visibility:           True\n",
       "  Scalar range:                (0.375, 0.8333333333333334)\n",
       "  Interpolate before mapping:  True\n",
       "  Scalar map mode:             point\n",
       "  Color mode:                  map\n",
       "\n",
       "Attached dataset:\n",
       "PolyData (0x7f139cb6ee60)\n",
       "  N Cells:    50\n",
       "  N Points:   50\n",
       "  N Strips:   0\n",
       "  X Bounds:   -4.477e+00, 8.523e+00\n",
       "  Y Bounds:   -5.327e+00, 8.673e+00\n",
       "  Z Bounds:   -6.227e+00, 8.773e+00\n",
       "  N Arrays:   1"
      ]
     },
     "execution_count": 181,
     "metadata": {},
     "output_type": "execute_result"
    }
   ],
   "source": [
    "plotter.background_color = \"slategrey\"\n",
    "scargs = {\"color\": \"black\"}\n",
    "plotter.add_points(cloud, render_points_as_spheres=True, cmap=\"RdYlGn\", \n",
    "                   clim=[min(c1_more_freqs), max(c1_more_freqs)], point_size=15, scalar_bar_args=scargs)\n"
   ]
  },
  {
   "cell_type": "code",
   "execution_count": 182,
   "metadata": {},
   "outputs": [],
   "source": [
    "halved_SI = ml.ConformerLibrary(\"../nbo-cu-box-clean/halve_testing/halved_fixed.mlib\")"
   ]
  },
  {
   "cell_type": "code",
   "execution_count": 183,
   "metadata": {},
   "outputs": [],
   "source": [
    "ml.visual.backend_pyvista.plot_structure_as_wireframe(plotter, halved_SI[\"aa_1\"][0])"
   ]
  },
  {
   "cell_type": "code",
   "execution_count": 184,
   "metadata": {},
   "outputs": [
    {
     "data": {
      "application/vnd.jupyter.widget-view+json": {
       "model_id": "62cd1b5cce6f44faa62fb010aa4859bc",
       "version_major": 2,
       "version_minor": 0
      },
      "text/plain": [
       "Widget(value=\"<iframe src='http://localhost:33757/index.html?ui=P_0x7f139c9157d0_27&reconnect=auto' style='wid…"
      ]
     },
     "metadata": {},
     "output_type": "display_data"
    },
    {
     "name": "stdout",
     "output_type": "stream",
     "text": [
      " JS Error => error: Uncaught TypeError: Cannot mix BigInt and other types, use explicit conversions\n"
     ]
    }
   ],
   "source": [
    "plotter.show()"
   ]
  },
  {
   "cell_type": "code",
   "execution_count": null,
   "metadata": {},
   "outputs": [],
   "source": [
    "plotter.save_graphic(\"c1.svg\")"
   ]
  },
  {
   "cell_type": "markdown",
   "metadata": {},
   "source": [
    "## Random matplotlib stuff"
   ]
  },
  {
   "cell_type": "code",
   "execution_count": 9,
   "metadata": {},
   "outputs": [],
   "source": [
    "x = np.random.default_rng(1).uniform(size=20)\n",
    "y = x + np.random.default_rng(1).normal(scale=0.1, size=20)"
   ]
  },
  {
   "cell_type": "code",
   "execution_count": 16,
   "metadata": {},
   "outputs": [
    {
     "data": {
      "image/png": "[encoded data removed]",
      "text/plain": [
       "<Figure size 640x480 with 1 Axes>"
      ]
     },
     "metadata": {},
     "output_type": "display_data"
    }
   ],
   "source": [
    "fig = plt.figure()\n",
    "scat = plt.scatter(x, y)\n",
    "plt.scatter([0.2, 0.25, 0.19], [0.91, 0.94, 0.8], c='red')\n",
    "plt.axis(\"off\")\n",
    "plt.show()\n",
    "fig.savefig(\"../images/outlier_detect.png\")\n",
    "plt.close()"
   ]
  },
  {
   "cell_type": "code",
   "execution_count": 33,
   "metadata": {},
   "outputs": [
    {
     "data": {
      "text/plain": [
       "0.9731142204091661"
      ]
     },
     "execution_count": 33,
     "metadata": {},
     "output_type": "execute_result"
    }
   ],
   "source": [
    "a, b = np.polyfit(x, y, 1)\n",
    "a"
   ]
  },
  {
   "cell_type": "code",
   "execution_count": 42,
   "metadata": {},
   "outputs": [
    {
     "data": {
      "image/png": "[encoded data removed]",
      "text/plain": [
       "<Figure size 640x480 with 1 Axes>"
      ]
     },
     "metadata": {},
     "output_type": "display_data"
    }
   ],
   "source": [
    "fig = plt.figure()\n",
    "scat = plt.scatter(x, y)\n",
    "plt.plot(x, b + 0.3 + (a - 0.6) * x, color=\"k\")\n",
    "#plt.scatter([0.2, 0.25, 0.19], [0.91, 0.94, 0.8], c='red')\n",
    "plt.axis(\"off\")\n",
    "plt.show()\n",
    "fig.savefig(\"../images/lin_reg.png\")\n",
    "plt.close()"
   ]
  },
  {
   "cell_type": "code",
   "execution_count": 43,
   "metadata": {},
   "outputs": [
    {
     "data": {
      "image/png": "[encoded data removed]",
      "text/plain": [
       "<Figure size 640x480 with 1 Axes>"
      ]
     },
     "metadata": {},
     "output_type": "display_data"
    }
   ],
   "source": [
    "fig = plt.figure()\n",
    "scat = plt.scatter(x, y)\n",
    "plt.plot(x, b + a * x, color=\"k\")\n",
    "#plt.scatter([0.2, 0.25, 0.19], [0.91, 0.94, 0.8], c='red')\n",
    "plt.axis(\"off\")\n",
    "plt.show()\n",
    "fig.savefig(\"../images/lin_reg_correct.png\")\n",
    "plt.close()"
   ]
  },
  {
   "cell_type": "markdown",
   "metadata": {},
   "source": [
    "# ehhhh some random calculations"
   ]
  },
  {
   "cell_type": "code",
   "execution_count": 2,
   "metadata": {},
   "outputs": [
    {
     "name": "stdout",
     "output_type": "stream",
     "text": [
      "(19604, 3)\n",
      "(14976, 3)\n"
     ]
    }
   ],
   "source": [
    "full_grid = np.load(\"grid.npy\")\n",
    "half_grid = np.load(\"../grid_testing/casey_redo_all_halved.npy\")\n",
    "print(full_grid.shape)\n",
    "print(half_grid.shape)"
   ]
  },
  {
   "cell_type": "code",
   "execution_count": 4,
   "metadata": {},
   "outputs": [
    {
     "data": {
      "text/plain": [
       "76.39257294429707"
      ]
     },
     "execution_count": 4,
     "metadata": {},
     "output_type": "execute_result"
    }
   ],
   "source": [
    "(14976 / 19604) * 100"
   ]
  },
  {
   "cell_type": "code",
   "execution_count": 5,
   "metadata": {},
   "outputs": [
    {
     "data": {
      "text/plain": [
       "23.607427055702928"
      ]
     },
     "execution_count": 5,
     "metadata": {},
     "output_type": "execute_result"
    }
   ],
   "source": [
    "100 - 76.39257294429707"
   ]
  },
  {
   "cell_type": "code",
   "execution_count": 6,
   "metadata": {},
   "outputs": [
    {
     "data": {
      "text/plain": [
       "0.14387387387387388"
      ]
     },
     "execution_count": 6,
     "metadata": {},
     "output_type": "execute_result"
    }
   ],
   "source": [
    "1597 / 11100"
   ]
  },
  {
   "cell_type": "code",
   "execution_count": 7,
   "metadata": {},
   "outputs": [
    {
     "data": {
      "text/plain": [
       "14.387387387387388"
      ]
     },
     "execution_count": 7,
     "metadata": {},
     "output_type": "execute_result"
    }
   ],
   "source": [
    "0.14387387387387388 * 100"
   ]
  },
  {
   "cell_type": "code",
   "execution_count": null,
   "metadata": {},
   "outputs": [],
   "source": []
  },
  {
   "cell_type": "markdown",
   "metadata": {},
   "source": [
    "# 3D viz for select features"
   ]
  },
  {
   "cell_type": "code",
   "execution_count": 256,
   "metadata": {},
   "outputs": [],
   "source": [
    "# label kwarg and plotter.add_legend() ?\n",
    "FAD_feats = [9709, 11766, 12520] # 7815, 15271 (the SVRs)"
   ]
  },
  {
   "cell_type": "code",
   "execution_count": 257,
   "metadata": {},
   "outputs": [
    {
     "data": {
      "text/plain": [
       "array([0.66666667, 0.54166667, 0.54166667])"
      ]
     },
     "execution_count": 257,
     "metadata": {},
     "output_type": "execute_result"
    }
   ],
   "source": [
    "points = grid[FAD_feats]\n",
    "sub = np.array([i for i in selected if i[0].astype(int) in FAD_feats])\n",
    "sub_freqs = np.array([float(i[1]) / 24 for i in sub])\n",
    "sub_freqs"
   ]
  },
  {
   "cell_type": "code",
   "execution_count": 258,
   "metadata": {},
   "outputs": [],
   "source": [
    "cloud = pyvista.PolyData(points)\n",
    "cloud.point_data[\"values\"] = sub_freqs\n",
    "cloud[\"Labels\"] = [str(i) for i in FAD_feats]\n",
    "plotter = pyvista.Plotter()"
   ]
  },
  {
   "cell_type": "code",
   "execution_count": 259,
   "metadata": {},
   "outputs": [
    {
     "data": {
      "text/plain": [
       "Actor (0x7f139c7ba620)\n",
       "  Center:                     (2.459549903869629, 1.8513498306274414, 2.2729000747203827)\n",
       "  Pickable:                   True\n",
       "  Position:                   (0.0, 0.0, 0.0)\n",
       "  Scale:                      (1.0, 1.0, 1.0)\n",
       "  Visible:                    True\n",
       "  X Bounds                    4.595E-01, 4.460E+00\n",
       "  Y Bounds                    -1.487E-01, 3.851E+00\n",
       "  Z Bounds                    7.729E-01, 3.773E+00\n",
       "  User matrix:                Unset\n",
       "  Has mapper:                 True\n",
       "\n",
       "Property (0x7f139c7ba920)\n",
       "  Ambient:                     0.0\n",
       "  Ambient color:               Color(name='white', hex='#ffffffff', opacity=255)\n",
       "  Anisotropy:                  0.0\n",
       "  Color:                       Color(name='white', hex='#ffffffff', opacity=255)\n",
       "  Culling:                     \"none\"\n",
       "  Diffuse:                     1.0\n",
       "  Diffuse color:               Color(name='white', hex='#ffffffff', opacity=255)\n",
       "  Edge color:                  Color(name='black', hex='#000000ff', opacity=255)\n",
       "  Interpolation:               InterpolationType.FLAT\n",
       "  Lighting:                    True\n",
       "  Line width:                  1.0\n",
       "  Metallic:                    0.0\n",
       "  Opacity:                     1.0\n",
       "  Point size:                  15.0\n",
       "  Render lines as tubes:       False\n",
       "  Render points as spheres:    True\n",
       "  Roughness:                   0.5\n",
       "  Show edges:                  False\n",
       "  Specular:                    0.0\n",
       "  Specular color:              Color(name='white', hex='#ffffffff', opacity=255)\n",
       "  Specular power:              100.0\n",
       "  Style:                       \"Points\"\n",
       "\n",
       "DataSetMapper (0x7f139c7b9de0)\n",
       "  Scalar visibility:           True\n",
       "  Scalar range:                (0.5416666666666666, 0.6666666666666666)\n",
       "  Interpolate before mapping:  True\n",
       "  Scalar map mode:             point\n",
       "  Color mode:                  map\n",
       "\n",
       "Attached dataset:\n",
       "PolyData (0x7f139c7b8ee0)\n",
       "  N Cells:    3\n",
       "  N Points:   3\n",
       "  N Strips:   0\n",
       "  X Bounds:   4.595e-01, 4.460e+00\n",
       "  Y Bounds:   -1.487e-01, 3.851e+00\n",
       "  Z Bounds:   7.729e-01, 3.773e+00\n",
       "  N Arrays:   2"
      ]
     },
     "execution_count": 259,
     "metadata": {},
     "output_type": "execute_result"
    }
   ],
   "source": [
    "plotter.background_color = \"slategrey\"\n",
    "scargs = {\"color\": \"black\"}\n",
    "plotter.add_points(cloud, render_points_as_spheres=True, cmap=\"RdYlGn\", \n",
    "                   clim=[min(sub_freqs), max(sub_freqs)], point_size=15, scalar_bar_args=scargs)\n",
    "#plotter.add_point_labels(cloud, \"Labels\", point_size=25, font_size=36, text_color=\"black\")\n"
   ]
  },
  {
   "cell_type": "code",
   "execution_count": 260,
   "metadata": {},
   "outputs": [],
   "source": [
    "ml.visual.backend_pyvista.plot_structure_as_wireframe(plotter, SI_lib[\"aa_1\"][0])"
   ]
  },
  {
   "cell_type": "code",
   "execution_count": 261,
   "metadata": {},
   "outputs": [
    {
     "data": {
      "application/vnd.jupyter.widget-view+json": {
       "model_id": "02dbe2657c5c49c791bb3268fc9dd48d",
       "version_major": 2,
       "version_minor": 0
      },
      "text/plain": [
       "Widget(value=\"<iframe src='http://localhost:33757/index.html?ui=P_0x7f13cb1ff3d0_41&reconnect=auto' style='wid…"
      ]
     },
     "metadata": {},
     "output_type": "display_data"
    },
    {
     "name": "stdout",
     "output_type": "stream",
     "text": [
      " JS Error => error: Uncaught TypeError: Cannot mix BigInt and other types, use explicit conversions\n"
     ]
    }
   ],
   "source": [
    "plotter.show()"
   ]
  },
  {
   "cell_type": "markdown",
   "metadata": {},
   "source": [
    "11766 is feature above substituent, 12520 is below"
   ]
  },
  {
   "cell_type": "code",
   "execution_count": null,
   "metadata": {},
   "outputs": [],
   "source": []
  }
 ],
 "metadata": {
  "kernelspec": {
   "display_name": "DFT",
   "language": "python",
   "name": "python3"
  },
  "language_info": {
   "codemirror_mode": {
    "name": "ipython",
    "version": 3
   },
   "file_extension": ".py",
   "mimetype": "text/x-python",
   "name": "python",
   "nbconvert_exporter": "python",
   "pygments_lexer": "ipython3",
   "version": "3.11.4"
  }
 },
 "nbformat": 4,
 "nbformat_minor": 2
}
