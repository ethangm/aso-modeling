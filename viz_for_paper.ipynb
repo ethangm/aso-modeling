{
 "cells": [
  {
   "cell_type": "markdown",
   "metadata": {},
   "source": [
    "# Ensemble feature viz first (for c1 and c2)"
   ]
  },
  {
   "cell_type": "code",
   "execution_count": 1,
   "metadata": {},
   "outputs": [],
   "source": [
    "import molli as ml\n",
    "import molli.visual\n",
    "import molli.visual.backend_pyvista\n",
    "import pyvista\n",
    "import numpy as np\n",
    "import matplotlib.pyplot as plt"
   ]
  },
  {
   "cell_type": "markdown",
   "metadata": {},
   "source": [
    "### For c2 regularized models"
   ]
  },
  {
   "cell_type": "code",
   "execution_count": 2,
   "metadata": {},
   "outputs": [],
   "source": [
    "selected = np.load(\"real_output/optimized_with_outlier/all_features.npy\")\n",
    "selected_IDW_1 = np.load(\"real_output/optimized_with_outlier/all_features_IDW_1.npy\")\n",
    "selected_IDW_2 = np.load(\"real_output/optimized_with_outlier/all_features_IDW_2.npy\")\n",
    "selected_IDW_3 = np.load(\"real_output/optimized_with_outlier/all_features_IDW_3.npy\")"
   ]
  },
  {
   "cell_type": "code",
   "execution_count": 3,
   "metadata": {},
   "outputs": [],
   "source": [
    "grid = np.load(\"grid.npy\")"
   ]
  },
  {
   "cell_type": "code",
   "execution_count": 4,
   "metadata": {},
   "outputs": [
    {
     "name": "stdout",
     "output_type": "stream",
     "text": [
      "537\n"
     ]
    }
   ],
   "source": [
    "ids = selected[:, 0].astype(int)\n",
    "freq = selected[:, 1].astype(np.float64)\n",
    "filtered = grid[ids]\n",
    "print(len(filtered))"
   ]
  },
  {
   "cell_type": "code",
   "execution_count": 14,
   "metadata": {},
   "outputs": [
    {
     "name": "stdout",
     "output_type": "stream",
     "text": [
      "56\n"
     ]
    }
   ],
   "source": [
    "more_than_twice = np.array([i for i in selected if i[1].astype(np.float64) > 2])\n",
    "print(len(more_than_twice))"
   ]
  },
  {
   "cell_type": "code",
   "execution_count": 15,
   "metadata": {},
   "outputs": [],
   "source": [
    "more_ids = more_than_twice[:, 0].astype(int)\n",
    "more_freqs = more_than_twice[:, 1].astype(int)"
   ]
  },
  {
   "cell_type": "code",
   "execution_count": 16,
   "metadata": {},
   "outputs": [
    {
     "data": {
      "text/plain": [
       "<BarContainer object of 56 artists>"
      ]
     },
     "execution_count": 16,
     "metadata": {},
     "output_type": "execute_result"
    },
    {
     "data": {
      "image/png": "[encoded data removed]",
      "text/plain": [
       "<Figure size 640x480 with 1 Axes>"
      ]
     },
     "metadata": {},
     "output_type": "display_data"
    }
   ],
   "source": [
    "plt.bar(more_ids.astype(str), more_freqs)"
   ]
  },
  {
   "cell_type": "markdown",
   "metadata": {},
   "source": [
    "Think about applying statistical analysis. I.e find out threshold of selection for features to be statistically significant"
   ]
  },
  {
   "cell_type": "code",
   "execution_count": 17,
   "metadata": {},
   "outputs": [],
   "source": [
    "filtered_more = grid[more_ids]"
   ]
  },
  {
   "cell_type": "code",
   "execution_count": 19,
   "metadata": {},
   "outputs": [],
   "source": [
    "cloud = pyvista.PolyData(filtered_more)\n",
    "cloud.point_data[\"values\"] = more_freqs"
   ]
  },
  {
   "cell_type": "code",
   "execution_count": 20,
   "metadata": {},
   "outputs": [
    {
     "name": "stderr",
     "output_type": "stream",
     "text": [
      "/home/ethangm2/miniconda3/envs/DFT/lib/python3.11/site-packages/pyvista/plotting/plotting.py:148: UserWarning: \n",
      "This system does not appear to be running an xserver.\n",
      "PyVista will likely segfault when rendering.\n",
      "\n",
      "Try starting a virtual frame buffer with xvfb, or using\n",
      "  ``pyvista.start_xvfb()``\n",
      "\n",
      "  warnings.warn(\n"
     ]
    }
   ],
   "source": [
    "plotter = pyvista.Plotter()"
   ]
  },
  {
   "cell_type": "code",
   "execution_count": null,
   "metadata": {},
   "outputs": [],
   "source": [
    "# Mess with coloration here (coolwarm -> [red, green])\n",
    "plotter.add_points(cloud, render_points_as_spheres=True, cmap=['red', 'green'], clim=[min(more_freqs), max(more_freqs)])\n",
    "plotter.show()"
   ]
  },
  {
   "cell_type": "code",
   "execution_count": 21,
   "metadata": {},
   "outputs": [
    {
     "data": {
      "application/3dmoljs_load.v0": "<div id=\"3dmolviewer_1700325257079085\"  style=\"position: relative; width: 1000px; height: 500px\">\n        <p id=\"3dmolwarning_1700325257079085\" style=\"background-color:#ffcccc;color:black\">You appear to be running in JupyterLab (or JavaScript failed to load for some other reason).  You need to install the 3dmol extension: <br>\n        <tt>jupyter labextension install jupyterlab_3dmol</tt></p>\n        </div>\n<script>\n\nvar loadScriptAsync = function(uri){\n  return new Promise((resolve, reject) => {\n    //this is to ignore the existence of requirejs amd\n    var savedexports, savedmodule;\n    if (typeof exports !== 'undefined') savedexports = exports;\n    else exports = {}\n    if (typeof module !== 'undefined') savedmodule = module;\n    else module = {}\n\n    var tag = document.createElement('script');\n    tag.src = uri;\n    tag.async = true;\n    tag.onload = () => {\n        exports = savedexports;\n        module = savedmodule;\n        resolve();\n    };\n  var firstScriptTag = document.getElementsByTagName('script')[0];\n  firstScriptTag.parentNode.insertBefore(tag, firstScriptTag);\n});\n};\n\nif(typeof $3Dmolpromise === 'undefined') {\n$3Dmolpromise = null;\n  $3Dmolpromise = loadScriptAsync('https://cdnjs.cloudflare.com/ajax/libs/3Dmol/2.0.1/3Dmol-min.js');\n}\n\nvar viewer_1700325257079085 = null;\nvar warn = document.getElementById(\"3dmolwarning_1700325257079085\");\nif(warn) {\n    warn.parentNode.removeChild(warn);\n}\n$3Dmolpromise.then(function() {\nviewer_1700325257079085 = $3Dmol.createViewer(document.getElementById(\"3dmolviewer_1700325257079085\"),{backgroundColor:\"white\"});\nviewer_1700325257079085.zoomTo();\n\tviewer_1700325257079085.addModel(\"# Produced with molli package\\n@<TRIPOS>MOLECULE\\naa_1\\n43 48 0 0 0\\nSMALL\\nUSER_CHARGES\\n\\n@<TRIPOS>ATOM\\n     1 C       3.319400    -2.669000     2.400100 C.3        1 UNL1 0.0\\n     2 C       2.814200    -3.449400     1.166700 C.3        1 UNL1 0.0\\n     3 O       2.167800    -2.452900     0.360000 O.2        1 UNL1 0.0\\n     4 C       2.532600    -1.253900     0.807600 C.2        1 UNL1 0.0\\n     5 N       3.230300    -1.274800     1.873400 N.2        1 UNL1 0.0\\n     6 C       2.091100    -0.020900     0.137900 C.3        1 UNL1 0.0\\n     7 C       2.539400     1.209600     0.807600 C.2        1 UNL1 0.0\\n     8 O       2.270300     2.410400     0.300900 O.2        1 UNL1 0.0\\n     9 C       2.765000     3.403700     1.212100 C.3        1 UNL1 0.0\\n    10 C       3.704900     2.619300     2.153900 C.3        1 UNL1 0.0\\n    11 N       3.251500     1.226600     1.864000 N.2        1 UNL1 0.0\\n    12 C       1.613400     3.989200     2.055100 C.3        1 UNL1 0.0\\n    13 C       2.172800     3.909200     3.439500 C.ar       1 UNL1 0.0\\n    14 C       3.367400     3.182100     3.486500 C.ar       1 UNL1 0.0\\n    15 C       1.648100     4.500800     4.576200 C.ar       1 UNL1 0.0\\n    16 C       2.359100     4.388600     5.770300 C.ar       1 UNL1 0.0\\n    17 C       3.583600     3.708800     5.810700 C.ar       1 UNL1 0.0\\n    18 C       4.102900     3.108600     4.662200 C.ar       1 UNL1 0.0\\n    19 C       4.677700    -3.234700     2.604200 C.ar       1 UNL1 0.0\\n    20 C       5.096200    -3.959600     1.482900 C.ar       1 UNL1 0.0\\n    21 C       4.036700    -4.035100     0.430300 C.3        1 UNL1 0.0\\n    22 C       5.476500    -3.165500     3.738200 C.ar       1 UNL1 0.0\\n    23 C       6.735400    -3.767700     3.703100 C.ar       1 UNL1 0.0\\n    24 C       7.171700    -4.445300     2.556900 C.ar       1 UNL1 0.0\\n    25 C       6.346400    -4.553300     1.438400 C.ar       1 UNL1 0.0\\n    26 H       3.296600     4.185600     0.657200 H          1 UNL1 0.0\\n    27 H       4.752500     2.740000     1.862500 H          1 UNL1 0.0\\n    28 H       2.644500    -2.790800     3.252700 H          1 UNL1 0.0\\n    29 H       2.095400    -4.230800     1.439600 H          1 UNL1 0.0\\n    30 H       2.477500    -0.024100    -0.886900 H          1 UNL1 0.0\\n    31 H       0.996700    -0.015700     0.096700 H          1 UNL1 0.0\\n    32 H       1.419500     5.027600     1.768500 H          1 UNL1 0.0\\n    33 H       0.690800     3.406400     1.967700 H          1 UNL1 0.0\\n    34 H       0.721000     5.069800     4.548400 H          1 UNL1 0.0\\n    35 H       1.976000     4.861400     6.674600 H          1 UNL1 0.0\\n    36 H       4.137400     3.669800     6.748700 H          1 UNL1 0.0\\n    37 H       5.072400     2.620400     4.721000 H          1 UNL1 0.0\\n    38 H       4.314800    -3.450400    -0.452400 H          1 UNL1 0.0\\n    39 H       3.846000    -5.072400     0.137900 H          1 UNL1 0.0\\n    40 H       5.155600    -2.679100     4.655900 H          1 UNL1 0.0\\n    41 H       7.385500    -3.732100     4.577300 H          1 UNL1 0.0\\n    42 H       8.153000    -4.919800     2.553200 H          1 UNL1 0.0\\n    43 H       6.679100    -5.120600     0.571500 H          1 UNL1 0.0\\n@<TRIPOS>BOND\\n     1      1      2          1\\n     2      2      3          1\\n     3      3      4          1\\n     4      4      5          2\\n     5      5      1          1\\n     6      4      6          1\\n     7      6      7          1\\n     8      7      8          1\\n     9      8      9          1\\n    10      9     10          1\\n    11     10     11          1\\n    12     11      7          2\\n    13      9     12          1\\n    14     12     13          1\\n    15     13     14         ar\\n    16     14     10          1\\n    17     13     15         ar\\n    18     15     16         ar\\n    19     16     17         ar\\n    20     17     18         ar\\n    21     18     14         ar\\n    22      1     19          1\\n    23     19     20         ar\\n    24     20     21          1\\n    25     21      2          1\\n    26     19     22         ar\\n    27     22     23         ar\\n    28     23     24         ar\\n    29     24     25         ar\\n    30     25     20         ar\\n    31      9     26          1\\n    32     10     27          1\\n    33      1     28          1\\n    34      2     29          1\\n    35      6     30          1\\n    36      6     31          1\\n    37     12     32          1\\n    38     12     33          1\\n    39     15     34          1\\n    40     16     35          1\\n    41     17     36          1\\n    42     18     37          1\\n    43     21     38          1\\n    44     21     39          1\\n    45     22     40          1\\n    46     23     41          1\\n    47     24     42          1\\n    48     25     43          1\\n\",\"mol2\");\n\tviewer_1700325257079085.setStyle({\"stick\": {\"radius\": 0.1}, \"sphere\": {\"scale\": 0.15}});\n\tviewer_1700325257079085.setHoverable({},true,\"\\n            function(atom,viewer,event,container) {\\n                if(!atom.label) {\\n                    atom.label = viewer.addLabel(atom.elem + atom.serial, {position: atom, backgroundColor: 'mintcream', fontColor:'black'});\\n                }\\n            }\\n            \",\"\\n            function(atom,viewer) { \\n                if(atom.label) {\\n                    viewer.removeLabel(atom.label);\\n                    delete atom.label;\\n                }\\n            }\\n            \");\n\tviewer_1700325257079085.zoomTo();\n\tviewer_1700325257079085.setBackgroundColor(null);\nviewer_1700325257079085.render();\n});\n</script>",
      "text/html": [
       "<div id=\"3dmolviewer_1700325257079085\"  style=\"position: relative; width: 1000px; height: 500px\">\n",
       "        <p id=\"3dmolwarning_1700325257079085\" style=\"background-color:#ffcccc;color:black\">You appear to be running in JupyterLab (or JavaScript failed to load for some other reason).  You need to install the 3dmol extension: <br>\n",
       "        <tt>jupyter labextension install jupyterlab_3dmol</tt></p>\n",
       "        </div>\n",
       "<script>\n",
       "\n",
       "var loadScriptAsync = function(uri){\n",
       "  return new Promise((resolve, reject) => {\n",
       "    //this is to ignore the existence of requirejs amd\n",
       "    var savedexports, savedmodule;\n",
       "    if (typeof exports !== 'undefined') savedexports = exports;\n",
       "    else exports = {}\n",
       "    if (typeof module !== 'undefined') savedmodule = module;\n",
       "    else module = {}\n",
       "\n",
       "    var tag = document.createElement('script');\n",
       "    tag.src = uri;\n",
       "    tag.async = true;\n",
       "    tag.onload = () => {\n",
       "        exports = savedexports;\n",
       "        module = savedmodule;\n",
       "        resolve();\n",
       "    };\n",
       "  var firstScriptTag = document.getElementsByTagName('script')[0];\n",
       "  firstScriptTag.parentNode.insertBefore(tag, firstScriptTag);\n",
       "});\n",
       "};\n",
       "\n",
       "if(typeof $3Dmolpromise === 'undefined') {\n",
       "$3Dmolpromise = null;\n",
       "  $3Dmolpromise = loadScriptAsync('https://cdnjs.cloudflare.com/ajax/libs/3Dmol/2.0.1/3Dmol-min.js');\n",
       "}\n",
       "\n",
       "var viewer_1700325257079085 = null;\n",
       "var warn = document.getElementById(\"3dmolwarning_1700325257079085\");\n",
       "if(warn) {\n",
       "    warn.parentNode.removeChild(warn);\n",
       "}\n",
       "$3Dmolpromise.then(function() {\n",
       "viewer_1700325257079085 = $3Dmol.createViewer(document.getElementById(\"3dmolviewer_1700325257079085\"),{backgroundColor:\"white\"});\n",
       "viewer_1700325257079085.zoomTo();\n",
       "\tviewer_1700325257079085.addModel(\"# Produced with molli package\\n@<TRIPOS>MOLECULE\\naa_1\\n43 48 0 0 0\\nSMALL\\nUSER_CHARGES\\n\\n@<TRIPOS>ATOM\\n     1 C       3.319400    -2.669000     2.400100 C.3        1 UNL1 0.0\\n     2 C       2.814200    -3.449400     1.166700 C.3        1 UNL1 0.0\\n     3 O       2.167800    -2.452900     0.360000 O.2        1 UNL1 0.0\\n     4 C       2.532600    -1.253900     0.807600 C.2        1 UNL1 0.0\\n     5 N       3.230300    -1.274800     1.873400 N.2        1 UNL1 0.0\\n     6 C       2.091100    -0.020900     0.137900 C.3        1 UNL1 0.0\\n     7 C       2.539400     1.209600     0.807600 C.2        1 UNL1 0.0\\n     8 O       2.270300     2.410400     0.300900 O.2        1 UNL1 0.0\\n     9 C       2.765000     3.403700     1.212100 C.3        1 UNL1 0.0\\n    10 C       3.704900     2.619300     2.153900 C.3        1 UNL1 0.0\\n    11 N       3.251500     1.226600     1.864000 N.2        1 UNL1 0.0\\n    12 C       1.613400     3.989200     2.055100 C.3        1 UNL1 0.0\\n    13 C       2.172800     3.909200     3.439500 C.ar       1 UNL1 0.0\\n    14 C       3.367400     3.182100     3.486500 C.ar       1 UNL1 0.0\\n    15 C       1.648100     4.500800     4.576200 C.ar       1 UNL1 0.0\\n    16 C       2.359100     4.388600     5.770300 C.ar       1 UNL1 0.0\\n    17 C       3.583600     3.708800     5.810700 C.ar       1 UNL1 0.0\\n    18 C       4.102900     3.108600     4.662200 C.ar       1 UNL1 0.0\\n    19 C       4.677700    -3.234700     2.604200 C.ar       1 UNL1 0.0\\n    20 C       5.096200    -3.959600     1.482900 C.ar       1 UNL1 0.0\\n    21 C       4.036700    -4.035100     0.430300 C.3        1 UNL1 0.0\\n    22 C       5.476500    -3.165500     3.738200 C.ar       1 UNL1 0.0\\n    23 C       6.735400    -3.767700     3.703100 C.ar       1 UNL1 0.0\\n    24 C       7.171700    -4.445300     2.556900 C.ar       1 UNL1 0.0\\n    25 C       6.346400    -4.553300     1.438400 C.ar       1 UNL1 0.0\\n    26 H       3.296600     4.185600     0.657200 H          1 UNL1 0.0\\n    27 H       4.752500     2.740000     1.862500 H          1 UNL1 0.0\\n    28 H       2.644500    -2.790800     3.252700 H          1 UNL1 0.0\\n    29 H       2.095400    -4.230800     1.439600 H          1 UNL1 0.0\\n    30 H       2.477500    -0.024100    -0.886900 H          1 UNL1 0.0\\n    31 H       0.996700    -0.015700     0.096700 H          1 UNL1 0.0\\n    32 H       1.419500     5.027600     1.768500 H          1 UNL1 0.0\\n    33 H       0.690800     3.406400     1.967700 H          1 UNL1 0.0\\n    34 H       0.721000     5.069800     4.548400 H          1 UNL1 0.0\\n    35 H       1.976000     4.861400     6.674600 H          1 UNL1 0.0\\n    36 H       4.137400     3.669800     6.748700 H          1 UNL1 0.0\\n    37 H       5.072400     2.620400     4.721000 H          1 UNL1 0.0\\n    38 H       4.314800    -3.450400    -0.452400 H          1 UNL1 0.0\\n    39 H       3.846000    -5.072400     0.137900 H          1 UNL1 0.0\\n    40 H       5.155600    -2.679100     4.655900 H          1 UNL1 0.0\\n    41 H       7.385500    -3.732100     4.577300 H          1 UNL1 0.0\\n    42 H       8.153000    -4.919800     2.553200 H          1 UNL1 0.0\\n    43 H       6.679100    -5.120600     0.571500 H          1 UNL1 0.0\\n@<TRIPOS>BOND\\n     1      1      2          1\\n     2      2      3          1\\n     3      3      4          1\\n     4      4      5          2\\n     5      5      1          1\\n     6      4      6          1\\n     7      6      7          1\\n     8      7      8          1\\n     9      8      9          1\\n    10      9     10          1\\n    11     10     11          1\\n    12     11      7          2\\n    13      9     12          1\\n    14     12     13          1\\n    15     13     14         ar\\n    16     14     10          1\\n    17     13     15         ar\\n    18     15     16         ar\\n    19     16     17         ar\\n    20     17     18         ar\\n    21     18     14         ar\\n    22      1     19          1\\n    23     19     20         ar\\n    24     20     21          1\\n    25     21      2          1\\n    26     19     22         ar\\n    27     22     23         ar\\n    28     23     24         ar\\n    29     24     25         ar\\n    30     25     20         ar\\n    31      9     26          1\\n    32     10     27          1\\n    33      1     28          1\\n    34      2     29          1\\n    35      6     30          1\\n    36      6     31          1\\n    37     12     32          1\\n    38     12     33          1\\n    39     15     34          1\\n    40     16     35          1\\n    41     17     36          1\\n    42     18     37          1\\n    43     21     38          1\\n    44     21     39          1\\n    45     22     40          1\\n    46     23     41          1\\n    47     24     42          1\\n    48     25     43          1\\n\",\"mol2\");\n",
       "\tviewer_1700325257079085.setStyle({\"stick\": {\"radius\": 0.1}, \"sphere\": {\"scale\": 0.15}});\n",
       "\tviewer_1700325257079085.setHoverable({},true,\"\\n            function(atom,viewer,event,container) {\\n                if(!atom.label) {\\n                    atom.label = viewer.addLabel(atom.elem + atom.serial, {position: atom, backgroundColor: 'mintcream', fontColor:'black'});\\n                }\\n            }\\n            \",\"\\n            function(atom,viewer) { \\n                if(atom.label) {\\n                    viewer.removeLabel(atom.label);\\n                    delete atom.label;\\n                }\\n            }\\n            \");\n",
       "\tviewer_1700325257079085.zoomTo();\n",
       "\tviewer_1700325257079085.setBackgroundColor(null);\n",
       "viewer_1700325257079085.render();\n",
       "});\n",
       "</script>"
      ]
     },
     "metadata": {},
     "output_type": "display_data"
    },
    {
     "data": {
      "text/plain": [
       "Conformer(name='aa_1', formula='C21 H18 N2 O2')"
      ]
     },
     "execution_count": 21,
     "metadata": {},
     "output_type": "execute_result"
    }
   ],
   "source": [
    "SI_lib = ml.ConformerLibrary(\"../nbo-cu-box-clean/caseys/conformers_no_linker.mlib\")\n",
    "SI_lib[\"aa_1\"][0] # aa_1 is just my go to"
   ]
  },
  {
   "cell_type": "code",
   "execution_count": 22,
   "metadata": {},
   "outputs": [],
   "source": [
    "ml.visual.backend_pyvista.plot_structure_as_wireframe(plotter, SI_lib[\"aa_1\"][0])"
   ]
  },
  {
   "cell_type": "code",
   "execution_count": null,
   "metadata": {},
   "outputs": [],
   "source": [
    "plotter.show()"
   ]
  },
  {
   "cell_type": "code",
   "execution_count": null,
   "metadata": {},
   "outputs": [],
   "source": [
    "plotter.save_graphic(\"c2.svg\")"
   ]
  },
  {
   "cell_type": "markdown",
   "metadata": {},
   "source": [
    "### Now for same models but w/ c1"
   ]
  },
  {
   "cell_type": "code",
   "execution_count": 3,
   "metadata": {},
   "outputs": [],
   "source": [
    "c1_selected = np.load(\"../aso-modeling-out/halved-ridge-lasso-en-og-outliers/all_features_skip.npy\")\n",
    "c1_selected_IDW_1 = np.load(\"../aso-modeling-out/halved-ridge-lasso-en-og-outliers/all_features_IDW_1_skip.npy\")\n",
    "c1_selected_IDW_2 = np.load(\"../aso-modeling-out/halved-ridge-lasso-en-og-outliers/all_features_IDW_2_skip.npy\")\n",
    "c1_selected_IDW_3 = np.load(\"../aso-modeling-out/halved-ridge-lasso-en-og-outliers/all_features_IDW_3_skip.npy\")"
   ]
  },
  {
   "cell_type": "code",
   "execution_count": 4,
   "metadata": {},
   "outputs": [
    {
     "data": {
      "text/plain": [
       "(14976, 3)"
      ]
     },
     "execution_count": 4,
     "metadata": {},
     "output_type": "execute_result"
    }
   ],
   "source": [
    "c1_grid = np.load(\"../grid_testing/casey_redo_all_halved.npy\")\n",
    "c1_grid.shape"
   ]
  },
  {
   "cell_type": "code",
   "execution_count": 5,
   "metadata": {},
   "outputs": [
    {
     "name": "stdout",
     "output_type": "stream",
     "text": [
      "734\n"
     ]
    }
   ],
   "source": [
    "c1_ids = c1_selected[:, 0].astype(int)\n",
    "c1_freq = c1_selected[:, 1].astype(np.float64)\n",
    "c1_filtered = c1_grid[c1_ids]\n",
    "print(len(c1_filtered))"
   ]
  },
  {
   "cell_type": "code",
   "execution_count": 6,
   "metadata": {},
   "outputs": [
    {
     "name": "stdout",
     "output_type": "stream",
     "text": [
      "136\n"
     ]
    }
   ],
   "source": [
    "c1_thrice = np.array([i for i in c1_selected if i[1].astype(np.float64) > 2])\n",
    "print(len(c1_thrice))"
   ]
  },
  {
   "cell_type": "code",
   "execution_count": 7,
   "metadata": {},
   "outputs": [],
   "source": [
    "c1_more_ids = c1_thrice[:, 0].astype(int)\n",
    "c1_more_freqs = c1_thrice[:, 1].astype(int)"
   ]
  },
  {
   "cell_type": "code",
   "execution_count": 9,
   "metadata": {},
   "outputs": [
    {
     "name": "stdout",
     "output_type": "stream",
     "text": [
      "[ 3  4  3  3  3  4  3  5  3  3  4  4  4  3  3  3  3  5  4  4  5  3  8  3\n",
      "  3 12 10  5  3  6  8  3  3  5  9  3  4 12  4  8  9  5  4  6  3  7  3  3\n",
      "  3  4  3  8  4  3  4  9  3  4  5  9  3  7  6  6  3  3  3  3  4  8  5  8\n",
      "  5  4  3  3 10  4  3  5  3 10  3  3  4  6  8  3  7  3  7 10  3  7  6 11\n",
      "  4  3  3  4  8 12  4  6  3  3 11  3  5  8  4  8  3  4  3  8  3  3  4  3\n",
      "  3  6  5  3  3  6  3  3  4  3  3 18  8  6  4  4]\n"
     ]
    }
   ],
   "source": [
    "print(c1_more_freqs)"
   ]
  },
  {
   "cell_type": "markdown",
   "metadata": {},
   "source": [
    "! C1 run has additional \"blank\" outlier run compared to C2 run, but LOF is equivalent to blank, so extra unneccesary runs !"
   ]
  },
  {
   "cell_type": "markdown",
   "metadata": {},
   "source": [
    "^ I fixed it with the \"_skip\" arrays"
   ]
  },
  {
   "cell_type": "code",
   "execution_count": 10,
   "metadata": {},
   "outputs": [
    {
     "data": {
      "text/plain": [
       "<BarContainer object of 136 artists>"
      ]
     },
     "execution_count": 10,
     "metadata": {},
     "output_type": "execute_result"
    },
    {
     "data": {
      "image/png": "[encoded data removed]",
      "text/plain": [
       "<Figure size 640x480 with 1 Axes>"
      ]
     },
     "metadata": {},
     "output_type": "display_data"
    }
   ],
   "source": [
    "plt.bar(c1_more_ids.astype(str), c1_more_freqs)"
   ]
  },
  {
   "cell_type": "code",
   "execution_count": 11,
   "metadata": {},
   "outputs": [],
   "source": [
    "c1_filtered_more = c1_grid[c1_more_ids]"
   ]
  },
  {
   "cell_type": "code",
   "execution_count": 12,
   "metadata": {},
   "outputs": [],
   "source": [
    "cloud = pyvista.PolyData(c1_filtered_more)\n",
    "cloud.point_data[\"values\"] = c1_more_freqs"
   ]
  },
  {
   "cell_type": "code",
   "execution_count": 46,
   "metadata": {},
   "outputs": [
    {
     "name": "stderr",
     "output_type": "stream",
     "text": [
      "/home/ethangm2/miniconda3/envs/DFT/lib/python3.11/site-packages/pyvista/plotting/plotting.py:148: UserWarning: \n",
      "This system does not appear to be running an xserver.\n",
      "PyVista will likely segfault when rendering.\n",
      "\n",
      "Try starting a virtual frame buffer with xvfb, or using\n",
      "  ``pyvista.start_xvfb()``\n",
      "\n",
      "  warnings.warn(\n"
     ]
    }
   ],
   "source": [
    "plotter = pyvista.Plotter()"
   ]
  },
  {
   "cell_type": "code",
   "execution_count": 47,
   "metadata": {},
   "outputs": [
    {
     "name": "stderr",
     "output_type": "stream",
     "text": [
      "\n",
      "--------------------------------------------------------------------------------\n",
      "   !!! You are currently using trame@3 which may break your application !!!\n",
      "--------------------------------------------------------------------------------\n",
      "\n",
      " 1. trame@3 only provides by default trame.widgets.[html,client] and remove\n",
      "    everything else as implicit dependency. Those other widgets will still\n",
      "    exist and will be supported, but they will need to be defined as a\n",
      "    dependency of your application.\n",
      "\n",
      "       $ pip install trame-vtk trame-vuetify trame-plotly\n",
      "\n",
      "    Import paths are remaining the same.\n",
      "\n",
      "    For libraries like vuetify since they offer different API between\n",
      "    their vue2 and vue3 implementation, the widget name will reflect\n",
      "    which vue version they are referencing. But original naming will remain.\n",
      "\n",
      "       from trame.widgets import vuetify2, vuetify3\n",
      "\n",
      "\n",
      " 2. trame@3 aims to use vue3 as a new default. But to smooth the transition\n",
      "    we will maintain the server.client_type = 'vue2' default until\n",
      "    December 2023 which is the vue2 EOL.\n",
      "\n",
      "    After that time, the new default will be switched to 'vue3'.\n",
      "    Vue2 will still work 'forever' and many of the new widgets will be\n",
      "    written to support both versions.\n",
      "\n",
      "    If you have a 'vue2' application and don't need or want to update your code,\n",
      "    you can still use trame@3 with vue2 by setting `server.client_type='vue2'.\n",
      "\n",
      " Actions items\n",
      " ~~~~~~~~~~~~~\n",
      "   a. Make sure you set `server.client_type` to either 'vue2' or 'vue3'.\n",
      "   b. List the expected dependencies or have a 'trame<3' dependency\n",
      "\n",
      "--------------------------------------------------------------------------------\n",
      " => Current client_type default: vue2\n",
      "--------------------------------------------------------------------------------\n",
      "\n",
      "ERROR:root:bad X server connection. DISPLAY=\n",
      "\u001b[0m\u001b[31m2023-11-18 11:16:36.716 (3311.207s) [         657A740]vtkXOpenGLRenderWindow.:464    ERR| vtkXOpenGLRenderWindow (0x55afb348b790): bad X server connection. DISPLAY=\u001b[0m\n"
     ]
    },
    {
     "ename": "",
     "evalue": "",
     "output_type": "error",
     "traceback": [
      "\u001b[1;31mThe Kernel crashed while executing code in the the current cell or a previous cell. Please review the code in the cell(s) to identify a possible cause of the failure. Click <a href='https://aka.ms/vscodeJupyterKernelCrash'>here</a> for more info. View Jupyter <a href='command:jupyter.viewOutput'>log</a> for further details."
     ]
    }
   ],
   "source": [
    "# Mess with coloration here\n",
    "plotter.add_points(cloud, render_points_as_spheres=True, cmap='coolwarm', clim=[min(c1_more_freqs), max(c1_more_freqs)])\n",
    "plotter.show()"
   ]
  },
  {
   "cell_type": "code",
   "execution_count": 2,
   "metadata": {},
   "outputs": [
    {
     "ename": "NameError",
     "evalue": "name 'plotter' is not defined",
     "output_type": "error",
     "traceback": [
      "\u001b[0;31m---------------------------------------------------------------------------\u001b[0m",
      "\u001b[0;31mNameError\u001b[0m                                 Traceback (most recent call last)",
      "\u001b[1;32m/home/ethangm2/NBO-Modeling/aso-modeling/viz_for_paper.ipynb Cell 31\u001b[0m line \u001b[0;36m1\n\u001b[0;32m----> <a href='vscode-notebook-cell://ssh-remote%2Bsed_canopus.scs.illinois.edu/home/ethangm2/NBO-Modeling/aso-modeling/viz_for_paper.ipynb#X45sdnNjb2RlLXJlbW90ZQ%3D%3D?line=0'>1</a>\u001b[0m ml\u001b[39m.\u001b[39mvisual\u001b[39m.\u001b[39mbackend_pyvista\u001b[39m.\u001b[39mplot_structure_as_wireframe(plotter, SI_lib[\u001b[39m\"\u001b[39m\u001b[39maa_1\u001b[39m\u001b[39m\"\u001b[39m][\u001b[39m0\u001b[39m])\n",
      "\u001b[0;31mNameError\u001b[0m: name 'plotter' is not defined"
     ]
    }
   ],
   "source": [
    "ml.visual.backend_pyvista.plot_structure_as_wireframe(plotter, SI_lib[\"aa_1\"][0])"
   ]
  },
  {
   "cell_type": "code",
   "execution_count": null,
   "metadata": {},
   "outputs": [],
   "source": [
    "plotter.show()"
   ]
  },
  {
   "cell_type": "code",
   "execution_count": null,
   "metadata": {},
   "outputs": [],
   "source": [
    "plotter.save_graphic(\"c1.svg\")"
   ]
  },
  {
   "cell_type": "markdown",
   "metadata": {},
   "source": [
    "## Random matplotlib stuff"
   ]
  },
  {
   "cell_type": "code",
   "execution_count": 9,
   "metadata": {},
   "outputs": [],
   "source": [
    "x = np.random.default_rng(1).uniform(size=20)\n",
    "y = x + np.random.default_rng(1).normal(scale=0.1, size=20)"
   ]
  },
  {
   "cell_type": "code",
   "execution_count": 16,
   "metadata": {},
   "outputs": [
    {
     "data": {
      "image/png": "[encoded data removed]",
      "text/plain": [
       "<Figure size 640x480 with 1 Axes>"
      ]
     },
     "metadata": {},
     "output_type": "display_data"
    }
   ],
   "source": [
    "fig = plt.figure()\n",
    "scat = plt.scatter(x, y)\n",
    "plt.scatter([0.2, 0.25, 0.19], [0.91, 0.94, 0.8], c='red')\n",
    "plt.axis(\"off\")\n",
    "plt.show()\n",
    "fig.savefig(\"../images/outlier_detect.png\")\n",
    "plt.close()"
   ]
  },
  {
   "cell_type": "code",
   "execution_count": 33,
   "metadata": {},
   "outputs": [
    {
     "data": {
      "text/plain": [
       "0.9731142204091661"
      ]
     },
     "execution_count": 33,
     "metadata": {},
     "output_type": "execute_result"
    }
   ],
   "source": [
    "a, b = np.polyfit(x, y, 1)\n",
    "a"
   ]
  },
  {
   "cell_type": "code",
   "execution_count": 42,
   "metadata": {},
   "outputs": [
    {
     "data": {
      "image/png": "[encoded data removed]",
      "text/plain": [
       "<Figure size 640x480 with 1 Axes>"
      ]
     },
     "metadata": {},
     "output_type": "display_data"
    }
   ],
   "source": [
    "fig = plt.figure()\n",
    "scat = plt.scatter(x, y)\n",
    "plt.plot(x, b + 0.3 + (a - 0.6) * x, color=\"k\")\n",
    "#plt.scatter([0.2, 0.25, 0.19], [0.91, 0.94, 0.8], c='red')\n",
    "plt.axis(\"off\")\n",
    "plt.show()\n",
    "fig.savefig(\"../images/lin_reg.png\")\n",
    "plt.close()"
   ]
  },
  {
   "cell_type": "code",
   "execution_count": 43,
   "metadata": {},
   "outputs": [
    {
     "data": {
      "image/png": "[encoded data removed]",
      "text/plain": [
       "<Figure size 640x480 with 1 Axes>"
      ]
     },
     "metadata": {},
     "output_type": "display_data"
    }
   ],
   "source": [
    "fig = plt.figure()\n",
    "scat = plt.scatter(x, y)\n",
    "plt.plot(x, b + a * x, color=\"k\")\n",
    "#plt.scatter([0.2, 0.25, 0.19], [0.91, 0.94, 0.8], c='red')\n",
    "plt.axis(\"off\")\n",
    "plt.show()\n",
    "fig.savefig(\"../images/lin_reg_correct.png\")\n",
    "plt.close()"
   ]
  }
 ],
 "metadata": {
  "kernelspec": {
   "display_name": "DFT",
   "language": "python",
   "name": "python3"
  },
  "language_info": {
   "codemirror_mode": {
    "name": "ipython",
    "version": 3
   },
   "file_extension": ".py",
   "mimetype": "text/x-python",
   "name": "python",
   "nbconvert_exporter": "python",
   "pygments_lexer": "ipython3",
   "version": "3.11.4"
  }
 },
 "nbformat": 4,
 "nbformat_minor": 2
}
