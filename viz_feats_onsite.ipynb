{
 "cells": [
  {
   "cell_type": "code",
   "execution_count": 2,
   "metadata": {},
   "outputs": [],
   "source": [
    "import molli as ml\n",
    "import molli.visual\n",
    "import molli.visual.backend_pyvista\n",
    "import pyvista\n",
    "import numpy as np"
   ]
  },
  {
   "cell_type": "code",
   "execution_count": 3,
   "metadata": {},
   "outputs": [],
   "source": [
    "selected = np.load(\"real_output/optimized/all_features.npy\")\n",
    "selected_IDW_1 = np.load(\"real_output/optimized/all_features_IDW_1.npy\")\n",
    "selected_IDW_2 = np.load(\"real_output/optimized/all_features_IDW_2.npy\")\n",
    "selected_IDW_3 = np.load(\"real_output/optimized/all_features_IDW_3.npy\")"
   ]
  },
  {
   "cell_type": "code",
   "execution_count": 4,
   "metadata": {},
   "outputs": [],
   "source": [
    "grid = np.load(\"grid.npy\")"
   ]
  },
  {
   "cell_type": "code",
   "execution_count": 5,
   "metadata": {},
   "outputs": [
    {
     "name": "stdout",
     "output_type": "stream",
     "text": [
      "314\n"
     ]
    }
   ],
   "source": [
    "ids = selected[:, 0].astype(int)\n",
    "freq = selected[:, 1].astype(np.float64)\n",
    "filtered = grid[ids]\n",
    "print(len(filtered))"
   ]
  },
  {
   "cell_type": "code",
   "execution_count": 6,
   "metadata": {},
   "outputs": [],
   "source": [
    "cloud = pyvista.PolyData(filtered)\n",
    "cloud.point_data[\"values\"] = freq"
   ]
  },
  {
   "cell_type": "code",
   "execution_count": 7,
   "metadata": {},
   "outputs": [],
   "source": [
    "plotter = pyvista.Plotter()"
   ]
  },
  {
   "cell_type": "code",
   "execution_count": 8,
   "metadata": {},
   "outputs": [
    {
     "name": "stderr",
     "output_type": "stream",
     "text": [
      "\n",
      "--------------------------------------------------------------------------------\n",
      "   !!! You are currently using trame@3 which may break your application !!!\n",
      "--------------------------------------------------------------------------------\n",
      "\n",
      " 1. trame@3 only provides by default trame.widgets.[html,client] and remove\n",
      "    everything else as implicit dependency. Those other widgets will still\n",
      "    exist and will be supported, but they will need to be defined as a\n",
      "    dependency of your application.\n",
      "\n",
      "       $ pip install trame-vtk trame-vuetify trame-plotly\n",
      "\n",
      "    Import paths are remaining the same.\n",
      "\n",
      "    For libraries like vuetify since they offer different API between\n",
      "    their vue2 and vue3 implementation, the widget name will reflect\n",
      "    which vue version they are referencing. But original naming will remain.\n",
      "\n",
      "       from trame.widgets import vuetify2, vuetify3\n",
      "\n",
      "\n",
      " 2. trame@3 aims to use vue3 as a new default. But to smooth the transition\n",
      "    we will maintain the server.client_type = 'vue2' default until\n",
      "    December 2023 which is the vue2 EOL.\n",
      "\n",
      "    After that time, the new default will be switched to 'vue3'.\n",
      "    Vue2 will still work 'forever' and many of the new widgets will be\n",
      "    written to support both versions.\n",
      "\n",
      "    If you have a 'vue2' application and don't need or want to update your code,\n",
      "    you can still use trame@3 with vue2 by setting `server.client_type='vue2'.\n",
      "\n",
      " Actions items\n",
      " ~~~~~~~~~~~~~\n",
      "   a. Make sure you set `server.client_type` to either 'vue2' or 'vue3'.\n",
      "   b. List the expected dependencies or have a 'trame<3' dependency\n",
      "\n",
      "--------------------------------------------------------------------------------\n",
      " => Current client_type default: vue2\n",
      "--------------------------------------------------------------------------------\n",
      "\n"
     ]
    },
    {
     "data": {
      "application/vnd.jupyter.widget-view+json": {
       "model_id": "4dd1bddda41643268e206c5568cead47",
       "version_major": 2,
       "version_minor": 0
      },
      "text/plain": [
       "Widget(value=\"<iframe src='http://localhost:35309/index.html?ui=P_0x7fd27ee92f90_0&reconnect=auto' style='widt…"
      ]
     },
     "metadata": {},
     "output_type": "display_data"
    }
   ],
   "source": [
    "plotter.add_points(cloud, render_points_as_spheres=True, cmap='coolwarm', clim=[min(freq), max(freq)])\n",
    "plotter.show()"
   ]
  },
  {
   "cell_type": "code",
   "execution_count": 9,
   "metadata": {},
   "outputs": [],
   "source": [
    "SI_lib = ml.ConformerLibrary(\"../nbo-cu-box-clean/caseys/conformers_no_linker.mlib\")"
   ]
  },
  {
   "cell_type": "code",
   "execution_count": 10,
   "metadata": {},
   "outputs": [
    {
     "data": {
      "application/3dmoljs_load.v0": "<div id=\"3dmolviewer_1691451769829792\"  style=\"position: relative; width: 1000px; height: 500px\">\n        <p id=\"3dmolwarning_1691451769829792\" style=\"background-color:#ffcccc;color:black\">You appear to be running in JupyterLab (or JavaScript failed to load for some other reason).  You need to install the 3dmol extension: <br>\n        <tt>jupyter labextension install jupyterlab_3dmol</tt></p>\n        </div>\n<script>\n\nvar loadScriptAsync = function(uri){\n  return new Promise((resolve, reject) => {\n    //this is to ignore the existence of requirejs amd\n    var savedexports, savedmodule;\n    if (typeof exports !== 'undefined') savedexports = exports;\n    else exports = {}\n    if (typeof module !== 'undefined') savedmodule = module;\n    else module = {}\n\n    var tag = document.createElement('script');\n    tag.src = uri;\n    tag.async = true;\n    tag.onload = () => {\n        exports = savedexports;\n        module = savedmodule;\n        resolve();\n    };\n  var firstScriptTag = document.getElementsByTagName('script')[0];\n  firstScriptTag.parentNode.insertBefore(tag, firstScriptTag);\n});\n};\n\nif(typeof $3Dmolpromise === 'undefined') {\n$3Dmolpromise = null;\n  $3Dmolpromise = loadScriptAsync('https://cdnjs.cloudflare.com/ajax/libs/3Dmol/2.0.1/3Dmol-min.js');\n}\n\nvar viewer_1691451769829792 = null;\nvar warn = document.getElementById(\"3dmolwarning_1691451769829792\");\nif(warn) {\n    warn.parentNode.removeChild(warn);\n}\n$3Dmolpromise.then(function() {\nviewer_1691451769829792 = $3Dmol.createViewer(document.getElementById(\"3dmolviewer_1691451769829792\"),{backgroundColor:\"white\"});\nviewer_1691451769829792.zoomTo();\n\tviewer_1691451769829792.addModel(\"# Produced with molli package\\n@<TRIPOS>MOLECULE\\naa_1\\n43 48 0 0 0\\nSMALL\\nUSER_CHARGES\\n\\n@<TRIPOS>ATOM\\n     1 C       3.319400    -2.669000     2.400100 C.3        1 UNL1 0.0\\n     2 C       2.814200    -3.449400     1.166700 C.3        1 UNL1 0.0\\n     3 O       2.167800    -2.452900     0.360000 O.2        1 UNL1 0.0\\n     4 C       2.532600    -1.253900     0.807600 C.2        1 UNL1 0.0\\n     5 N       3.230300    -1.274800     1.873400 N.2        1 UNL1 0.0\\n     6 C       2.091100    -0.020900     0.137900 C.3        1 UNL1 0.0\\n     7 C       2.539400     1.209600     0.807600 C.2        1 UNL1 0.0\\n     8 O       2.270300     2.410400     0.300900 O.2        1 UNL1 0.0\\n     9 C       2.765000     3.403700     1.212100 C.3        1 UNL1 0.0\\n    10 C       3.704900     2.619300     2.153900 C.3        1 UNL1 0.0\\n    11 N       3.251500     1.226600     1.864000 N.2        1 UNL1 0.0\\n    12 C       1.613400     3.989200     2.055100 C.3        1 UNL1 0.0\\n    13 C       2.172800     3.909200     3.439500 C.ar       1 UNL1 0.0\\n    14 C       3.367400     3.182100     3.486500 C.ar       1 UNL1 0.0\\n    15 C       1.648100     4.500800     4.576200 C.ar       1 UNL1 0.0\\n    16 C       2.359100     4.388600     5.770300 C.ar       1 UNL1 0.0\\n    17 C       3.583600     3.708800     5.810700 C.ar       1 UNL1 0.0\\n    18 C       4.102900     3.108600     4.662200 C.ar       1 UNL1 0.0\\n    19 C       4.677700    -3.234700     2.604200 C.ar       1 UNL1 0.0\\n    20 C       5.096200    -3.959600     1.482900 C.ar       1 UNL1 0.0\\n    21 C       4.036700    -4.035100     0.430300 C.3        1 UNL1 0.0\\n    22 C       5.476500    -3.165500     3.738200 C.ar       1 UNL1 0.0\\n    23 C       6.735400    -3.767700     3.703100 C.ar       1 UNL1 0.0\\n    24 C       7.171700    -4.445300     2.556900 C.ar       1 UNL1 0.0\\n    25 C       6.346400    -4.553300     1.438400 C.ar       1 UNL1 0.0\\n    26 H       3.296600     4.185600     0.657200 H          1 UNL1 0.0\\n    27 H       4.752500     2.740000     1.862500 H          1 UNL1 0.0\\n    28 H       2.644500    -2.790800     3.252700 H          1 UNL1 0.0\\n    29 H       2.095400    -4.230800     1.439600 H          1 UNL1 0.0\\n    30 H       2.477500    -0.024100    -0.886900 H          1 UNL1 0.0\\n    31 H       0.996700    -0.015700     0.096700 H          1 UNL1 0.0\\n    32 H       1.419500     5.027600     1.768500 H          1 UNL1 0.0\\n    33 H       0.690800     3.406400     1.967700 H          1 UNL1 0.0\\n    34 H       0.721000     5.069800     4.548400 H          1 UNL1 0.0\\n    35 H       1.976000     4.861400     6.674600 H          1 UNL1 0.0\\n    36 H       4.137400     3.669800     6.748700 H          1 UNL1 0.0\\n    37 H       5.072400     2.620400     4.721000 H          1 UNL1 0.0\\n    38 H       4.314800    -3.450400    -0.452400 H          1 UNL1 0.0\\n    39 H       3.846000    -5.072400     0.137900 H          1 UNL1 0.0\\n    40 H       5.155600    -2.679100     4.655900 H          1 UNL1 0.0\\n    41 H       7.385500    -3.732100     4.577300 H          1 UNL1 0.0\\n    42 H       8.153000    -4.919800     2.553200 H          1 UNL1 0.0\\n    43 H       6.679100    -5.120600     0.571500 H          1 UNL1 0.0\\n@<TRIPOS>BOND\\n     1      1      2          1\\n     2      2      3          1\\n     3      3      4          1\\n     4      4      5          2\\n     5      5      1          1\\n     6      4      6          1\\n     7      6      7          1\\n     8      7      8          1\\n     9      8      9          1\\n    10      9     10          1\\n    11     10     11          1\\n    12     11      7          2\\n    13      9     12          1\\n    14     12     13          1\\n    15     13     14         ar\\n    16     14     10          1\\n    17     13     15         ar\\n    18     15     16         ar\\n    19     16     17         ar\\n    20     17     18         ar\\n    21     18     14         ar\\n    22      1     19          1\\n    23     19     20         ar\\n    24     20     21          1\\n    25     21      2          1\\n    26     19     22         ar\\n    27     22     23         ar\\n    28     23     24         ar\\n    29     24     25         ar\\n    30     25     20         ar\\n    31      9     26          1\\n    32     10     27          1\\n    33      1     28          1\\n    34      2     29          1\\n    35      6     30          1\\n    36      6     31          1\\n    37     12     32          1\\n    38     12     33          1\\n    39     15     34          1\\n    40     16     35          1\\n    41     17     36          1\\n    42     18     37          1\\n    43     21     38          1\\n    44     21     39          1\\n    45     22     40          1\\n    46     23     41          1\\n    47     24     42          1\\n    48     25     43          1\\n\",\"mol2\");\n\tviewer_1691451769829792.setStyle({\"stick\": {\"radius\": 0.1}, \"sphere\": {\"scale\": 0.15}});\n\tviewer_1691451769829792.setHoverable({},true,\"\\n            function(atom,viewer,event,container) {\\n                if(!atom.label) {\\n                    atom.label = viewer.addLabel(atom.elem + atom.serial, {position: atom, backgroundColor: 'mintcream', fontColor:'black'});\\n                }\\n            }\\n            \",\"\\n            function(atom,viewer) { \\n                if(atom.label) {\\n                    viewer.removeLabel(atom.label);\\n                    delete atom.label;\\n                }\\n            }\\n            \");\n\tviewer_1691451769829792.zoomTo();\n\tviewer_1691451769829792.setBackgroundColor(null);\nviewer_1691451769829792.render();\n});\n</script>",
      "text/html": [
       "<div id=\"3dmolviewer_1691451769829792\"  style=\"position: relative; width: 1000px; height: 500px\">\n",
       "        <p id=\"3dmolwarning_1691451769829792\" style=\"background-color:#ffcccc;color:black\">You appear to be running in JupyterLab (or JavaScript failed to load for some other reason).  You need to install the 3dmol extension: <br>\n",
       "        <tt>jupyter labextension install jupyterlab_3dmol</tt></p>\n",
       "        </div>\n",
       "<script>\n",
       "\n",
       "var loadScriptAsync = function(uri){\n",
       "  return new Promise((resolve, reject) => {\n",
       "    //this is to ignore the existence of requirejs amd\n",
       "    var savedexports, savedmodule;\n",
       "    if (typeof exports !== 'undefined') savedexports = exports;\n",
       "    else exports = {}\n",
       "    if (typeof module !== 'undefined') savedmodule = module;\n",
       "    else module = {}\n",
       "\n",
       "    var tag = document.createElement('script');\n",
       "    tag.src = uri;\n",
       "    tag.async = true;\n",
       "    tag.onload = () => {\n",
       "        exports = savedexports;\n",
       "        module = savedmodule;\n",
       "        resolve();\n",
       "    };\n",
       "  var firstScriptTag = document.getElementsByTagName('script')[0];\n",
       "  firstScriptTag.parentNode.insertBefore(tag, firstScriptTag);\n",
       "});\n",
       "};\n",
       "\n",
       "if(typeof $3Dmolpromise === 'undefined') {\n",
       "$3Dmolpromise = null;\n",
       "  $3Dmolpromise = loadScriptAsync('https://cdnjs.cloudflare.com/ajax/libs/3Dmol/2.0.1/3Dmol-min.js');\n",
       "}\n",
       "\n",
       "var viewer_1691451769829792 = null;\n",
       "var warn = document.getElementById(\"3dmolwarning_1691451769829792\");\n",
       "if(warn) {\n",
       "    warn.parentNode.removeChild(warn);\n",
       "}\n",
       "$3Dmolpromise.then(function() {\n",
       "viewer_1691451769829792 = $3Dmol.createViewer(document.getElementById(\"3dmolviewer_1691451769829792\"),{backgroundColor:\"white\"});\n",
       "viewer_1691451769829792.zoomTo();\n",
       "\tviewer_1691451769829792.addModel(\"# Produced with molli package\\n@<TRIPOS>MOLECULE\\naa_1\\n43 48 0 0 0\\nSMALL\\nUSER_CHARGES\\n\\n@<TRIPOS>ATOM\\n     1 C       3.319400    -2.669000     2.400100 C.3        1 UNL1 0.0\\n     2 C       2.814200    -3.449400     1.166700 C.3        1 UNL1 0.0\\n     3 O       2.167800    -2.452900     0.360000 O.2        1 UNL1 0.0\\n     4 C       2.532600    -1.253900     0.807600 C.2        1 UNL1 0.0\\n     5 N       3.230300    -1.274800     1.873400 N.2        1 UNL1 0.0\\n     6 C       2.091100    -0.020900     0.137900 C.3        1 UNL1 0.0\\n     7 C       2.539400     1.209600     0.807600 C.2        1 UNL1 0.0\\n     8 O       2.270300     2.410400     0.300900 O.2        1 UNL1 0.0\\n     9 C       2.765000     3.403700     1.212100 C.3        1 UNL1 0.0\\n    10 C       3.704900     2.619300     2.153900 C.3        1 UNL1 0.0\\n    11 N       3.251500     1.226600     1.864000 N.2        1 UNL1 0.0\\n    12 C       1.613400     3.989200     2.055100 C.3        1 UNL1 0.0\\n    13 C       2.172800     3.909200     3.439500 C.ar       1 UNL1 0.0\\n    14 C       3.367400     3.182100     3.486500 C.ar       1 UNL1 0.0\\n    15 C       1.648100     4.500800     4.576200 C.ar       1 UNL1 0.0\\n    16 C       2.359100     4.388600     5.770300 C.ar       1 UNL1 0.0\\n    17 C       3.583600     3.708800     5.810700 C.ar       1 UNL1 0.0\\n    18 C       4.102900     3.108600     4.662200 C.ar       1 UNL1 0.0\\n    19 C       4.677700    -3.234700     2.604200 C.ar       1 UNL1 0.0\\n    20 C       5.096200    -3.959600     1.482900 C.ar       1 UNL1 0.0\\n    21 C       4.036700    -4.035100     0.430300 C.3        1 UNL1 0.0\\n    22 C       5.476500    -3.165500     3.738200 C.ar       1 UNL1 0.0\\n    23 C       6.735400    -3.767700     3.703100 C.ar       1 UNL1 0.0\\n    24 C       7.171700    -4.445300     2.556900 C.ar       1 UNL1 0.0\\n    25 C       6.346400    -4.553300     1.438400 C.ar       1 UNL1 0.0\\n    26 H       3.296600     4.185600     0.657200 H          1 UNL1 0.0\\n    27 H       4.752500     2.740000     1.862500 H          1 UNL1 0.0\\n    28 H       2.644500    -2.790800     3.252700 H          1 UNL1 0.0\\n    29 H       2.095400    -4.230800     1.439600 H          1 UNL1 0.0\\n    30 H       2.477500    -0.024100    -0.886900 H          1 UNL1 0.0\\n    31 H       0.996700    -0.015700     0.096700 H          1 UNL1 0.0\\n    32 H       1.419500     5.027600     1.768500 H          1 UNL1 0.0\\n    33 H       0.690800     3.406400     1.967700 H          1 UNL1 0.0\\n    34 H       0.721000     5.069800     4.548400 H          1 UNL1 0.0\\n    35 H       1.976000     4.861400     6.674600 H          1 UNL1 0.0\\n    36 H       4.137400     3.669800     6.748700 H          1 UNL1 0.0\\n    37 H       5.072400     2.620400     4.721000 H          1 UNL1 0.0\\n    38 H       4.314800    -3.450400    -0.452400 H          1 UNL1 0.0\\n    39 H       3.846000    -5.072400     0.137900 H          1 UNL1 0.0\\n    40 H       5.155600    -2.679100     4.655900 H          1 UNL1 0.0\\n    41 H       7.385500    -3.732100     4.577300 H          1 UNL1 0.0\\n    42 H       8.153000    -4.919800     2.553200 H          1 UNL1 0.0\\n    43 H       6.679100    -5.120600     0.571500 H          1 UNL1 0.0\\n@<TRIPOS>BOND\\n     1      1      2          1\\n     2      2      3          1\\n     3      3      4          1\\n     4      4      5          2\\n     5      5      1          1\\n     6      4      6          1\\n     7      6      7          1\\n     8      7      8          1\\n     9      8      9          1\\n    10      9     10          1\\n    11     10     11          1\\n    12     11      7          2\\n    13      9     12          1\\n    14     12     13          1\\n    15     13     14         ar\\n    16     14     10          1\\n    17     13     15         ar\\n    18     15     16         ar\\n    19     16     17         ar\\n    20     17     18         ar\\n    21     18     14         ar\\n    22      1     19          1\\n    23     19     20         ar\\n    24     20     21          1\\n    25     21      2          1\\n    26     19     22         ar\\n    27     22     23         ar\\n    28     23     24         ar\\n    29     24     25         ar\\n    30     25     20         ar\\n    31      9     26          1\\n    32     10     27          1\\n    33      1     28          1\\n    34      2     29          1\\n    35      6     30          1\\n    36      6     31          1\\n    37     12     32          1\\n    38     12     33          1\\n    39     15     34          1\\n    40     16     35          1\\n    41     17     36          1\\n    42     18     37          1\\n    43     21     38          1\\n    44     21     39          1\\n    45     22     40          1\\n    46     23     41          1\\n    47     24     42          1\\n    48     25     43          1\\n\",\"mol2\");\n",
       "\tviewer_1691451769829792.setStyle({\"stick\": {\"radius\": 0.1}, \"sphere\": {\"scale\": 0.15}});\n",
       "\tviewer_1691451769829792.setHoverable({},true,\"\\n            function(atom,viewer,event,container) {\\n                if(!atom.label) {\\n                    atom.label = viewer.addLabel(atom.elem + atom.serial, {position: atom, backgroundColor: 'mintcream', fontColor:'black'});\\n                }\\n            }\\n            \",\"\\n            function(atom,viewer) { \\n                if(atom.label) {\\n                    viewer.removeLabel(atom.label);\\n                    delete atom.label;\\n                }\\n            }\\n            \");\n",
       "\tviewer_1691451769829792.zoomTo();\n",
       "\tviewer_1691451769829792.setBackgroundColor(null);\n",
       "viewer_1691451769829792.render();\n",
       "});\n",
       "</script>"
      ]
     },
     "metadata": {},
     "output_type": "display_data"
    },
    {
     "data": {
      "text/plain": [
       "Conformer(name='aa_1', formula='C21 H18 N2 O2')"
      ]
     },
     "execution_count": 10,
     "metadata": {},
     "output_type": "execute_result"
    }
   ],
   "source": [
    "SI_lib[\"aa_1\"][0]"
   ]
  },
  {
   "cell_type": "code",
   "execution_count": 11,
   "metadata": {},
   "outputs": [],
   "source": [
    "ml.visual.backend_pyvista.plot_structure_as_wireframe(plotter, SI_lib[\"aa_1\"][0])"
   ]
  },
  {
   "cell_type": "code",
   "execution_count": 12,
   "metadata": {},
   "outputs": [
    {
     "name": "stdout",
     "output_type": "stream",
     "text": [
      "A view with name (P_0x7fd27ee92f90_0) is already registered\n",
      " => returning previous one\n"
     ]
    },
    {
     "data": {
      "application/vnd.jupyter.widget-view+json": {
       "model_id": "131caddfb81c4af69591ce7792d17d59",
       "version_major": 2,
       "version_minor": 0
      },
      "text/plain": [
       "Widget(value=\"<iframe src='http://localhost:35309/index.html?ui=P_0x7fd27ee92f90_0&reconnect=auto' style='widt…"
      ]
     },
     "metadata": {},
     "output_type": "display_data"
    }
   ],
   "source": [
    "plotter.show()"
   ]
  },
  {
   "cell_type": "code",
   "execution_count": 13,
   "metadata": {},
   "outputs": [
    {
     "name": "stdout",
     "output_type": "stream",
     "text": [
      "314\n"
     ]
    }
   ],
   "source": [
    "ids_1 = selected_IDW_1[:, 0].astype(int)\n",
    "freq_1 = selected_IDW_1[:, 1].astype(np.float64)\n",
    "filtered_1 = grid[ids_1]\n",
    "print(len(filtered_1))"
   ]
  },
  {
   "cell_type": "code",
   "execution_count": 14,
   "metadata": {},
   "outputs": [],
   "source": [
    "cloud_1 = pyvista.PolyData(filtered_1)\n",
    "cloud_1.point_data[\"values\"] = freq_1\n",
    "plotter_1 = pyvista.Plotter()"
   ]
  },
  {
   "cell_type": "code",
   "execution_count": 15,
   "metadata": {},
   "outputs": [
    {
     "data": {
      "application/vnd.jupyter.widget-view+json": {
       "model_id": "fe404b1a416f4d8c9b578c1910baf5d8",
       "version_major": 2,
       "version_minor": 0
      },
      "text/plain": [
       "Widget(value=\"<iframe src='http://localhost:35309/index.html?ui=P_0x7fd2675211d0_1&reconnect=auto' style='widt…"
      ]
     },
     "metadata": {},
     "output_type": "display_data"
    }
   ],
   "source": [
    "plotter_1.add_points(cloud_1, render_points_as_spheres=True, cmap='coolwarm', clim=[min(freq_1), max(freq_1)])\n",
    "plotter_1.show()"
   ]
  },
  {
   "cell_type": "code",
   "execution_count": 16,
   "metadata": {},
   "outputs": [
    {
     "name": "stdout",
     "output_type": "stream",
     "text": [
      "A view with name (P_0x7fd2675211d0_1) is already registered\n",
      " => returning previous one\n"
     ]
    },
    {
     "data": {
      "application/vnd.jupyter.widget-view+json": {
       "model_id": "c0bb0af219d14f81ae7b9143705c2095",
       "version_major": 2,
       "version_minor": 0
      },
      "text/plain": [
       "Widget(value=\"<iframe src='http://localhost:35309/index.html?ui=P_0x7fd2675211d0_1&reconnect=auto' style='widt…"
      ]
     },
     "metadata": {},
     "output_type": "display_data"
    }
   ],
   "source": [
    "ml.visual.backend_pyvista.plot_structure_as_wireframe(plotter_1, SI_lib[\"aa_1\"][0])\n",
    "plotter_1.show()"
   ]
  },
  {
   "cell_type": "code",
   "execution_count": 17,
   "metadata": {},
   "outputs": [
    {
     "data": {
      "application/vnd.jupyter.widget-view+json": {
       "model_id": "eae304c8eb8043c7818f9d7eedc04f86",
       "version_major": 2,
       "version_minor": 0
      },
      "text/plain": [
       "Widget(value=\"<iframe src='http://localhost:35309/index.html?ui=P_0x7fd26c3f0f10_2&reconnect=auto' style='widt…"
      ]
     },
     "metadata": {},
     "output_type": "display_data"
    },
    {
     "name": "stdout",
     "output_type": "stream",
     "text": [
      " JS Error => error: Uncaught TypeError: Cannot read properties of undefined (reading '1')\n",
      " JS Error => error: Uncaught TypeError: Cannot read properties of undefined (reading '1')\n",
      " JS Error => error: Uncaught TypeError: Cannot read properties of undefined (reading '1')\n",
      " JS Error => error: Uncaught TypeError: Cannot read properties of undefined (reading '0')\n"
     ]
    }
   ],
   "source": [
    "ids_2 = selected_IDW_2[:, 0].astype(int)\n",
    "freq_2 = selected_IDW_2[:, 1].astype(np.float64)\n",
    "filtered_2 = grid[ids_2]\n",
    "cloud_2 = pyvista.PolyData(filtered_2)\n",
    "cloud_2.point_data[\"values\"] = freq_2\n",
    "plotter_2 = pyvista.Plotter()\n",
    "plotter_2.add_points(cloud_2, render_points_as_spheres=True, cmap='coolwarm', clim=[min(freq_2), max(freq_2)])\n",
    "ml.visual.backend_pyvista.plot_structure_as_wireframe(plotter_2, SI_lib[\"aa_1\"][0])\n",
    "plotter_2.show()"
   ]
  },
  {
   "cell_type": "code",
   "execution_count": 25,
   "metadata": {},
   "outputs": [
    {
     "data": {
      "application/vnd.jupyter.widget-view+json": {
       "model_id": "19399deb4fc9492394193c1dcabc58cd",
       "version_major": 2,
       "version_minor": 0
      },
      "text/plain": [
       "Widget(value=\"<iframe src='http://localhost:44097/index.html?ui=P_0x7fef37714490_4&reconnect=auto' style='widt…"
      ]
     },
     "metadata": {},
     "output_type": "display_data"
    }
   ],
   "source": [
    "ids_3 = selected_IDW_3[:, 0].astype(int)\n",
    "freq_3 = selected_IDW_3[:, 1].astype(np.float64)\n",
    "filtered_3 = grid[ids_3]\n",
    "cloud_3 = pyvista.PolyData(filtered_3)\n",
    "cloud_3.point_data[\"values\"] = freq_3\n",
    "plotter_3 = pyvista.Plotter()\n",
    "plotter_3.add_points(cloud_3, render_points_as_spheres=True, cmap='coolwarm', clim=[min(freq_3), max(freq_3)])\n",
    "ml.visual.backend_pyvista.plot_structure_as_wireframe(plotter_3, SI_lib[\"aa_1\"][0])\n",
    "plotter_3.show()"
   ]
  },
  {
   "cell_type": "markdown",
   "metadata": {},
   "source": [
    "Clean out some of the noise"
   ]
  },
  {
   "cell_type": "code",
   "execution_count": 19,
   "metadata": {},
   "outputs": [
    {
     "data": {
      "application/vnd.jupyter.widget-view+json": {
       "model_id": "a363c265f55d4707a1bfee8ba043bc64",
       "version_major": 2,
       "version_minor": 0
      },
      "text/plain": [
       "Widget(value=\"<iframe src='http://localhost:35309/index.html?ui=P_0x7fd26c561b90_4&reconnect=auto' style='widt…"
      ]
     },
     "metadata": {},
     "output_type": "display_data"
    },
    {
     "name": "stdout",
     "output_type": "stream",
     "text": [
      " JS Error => error: Uncaught TypeError: Cannot read properties of undefined (reading '0')\n",
      " JS Error => error: Uncaught TypeError: Cannot read properties of undefined (reading '0')\n",
      " JS Error => error: Uncaught TypeError: Cannot read properties of undefined (reading '1')\n",
      " JS Error => error: Uncaught TypeError: Cannot read properties of undefined (reading '1')\n",
      " JS Error => error: Uncaught TypeError: Cannot read properties of undefined (reading '1')\n",
      " JS Error => error: Uncaught TypeError: Cannot read properties of undefined (reading '0')\n",
      " JS Error => error: Uncaught TypeError: Cannot read properties of undefined (reading '1')\n",
      " JS Error => error: Uncaught TypeError: Cannot read properties of undefined (reading '0')\n"
     ]
    }
   ],
   "source": [
    "cleaned = np.array([i for i in selected_IDW_2 if i[1].astype(np.float64) > 4.5])\n",
    "ids_clean = cleaned[:, 0].astype(int)\n",
    "freq_clean = cleaned[:, 1].astype(np.float64)\n",
    "filtered_clean = grid[ids_clean]\n",
    "cloud_clean = pyvista.PolyData(filtered_clean)\n",
    "cloud_clean.point_data[\"values\"] = freq_clean\n",
    "plotter_clean = pyvista.Plotter()\n",
    "plotter_clean.add_points(cloud_clean, render_points_as_spheres=True, cmap='coolwarm', clim=[min(freq_clean), max(freq_clean)])\n",
    "ml.visual.backend_pyvista.plot_structure_as_wireframe(plotter_clean, SI_lib[\"aa_1\"][0])\n",
    "plotter_clean.show()"
   ]
  },
  {
   "cell_type": "code",
   "execution_count": null,
   "metadata": {},
   "outputs": [],
   "source": []
  }
 ],
 "metadata": {
  "kernelspec": {
   "display_name": "DFT",
   "language": "python",
   "name": "python3"
  },
  "language_info": {
   "codemirror_mode": {
    "name": "ipython",
    "version": 3
   },
   "file_extension": ".py",
   "mimetype": "text/x-python",
   "name": "python",
   "nbconvert_exporter": "python",
   "pygments_lexer": "ipython3",
   "version": "3.11.4"
  },
  "orig_nbformat": 4
 },
 "nbformat": 4,
 "nbformat_minor": 2
}
